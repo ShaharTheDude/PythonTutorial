{
 "cells": [
  {
   "cell_type": "markdown",
   "metadata": {},
   "source": [
    "# Jupyter"
   ]
  },
  {
   "cell_type": "raw",
   "metadata": {},
   "source": [
    "basic shortcuts - "
   ]
  },
  {
   "cell_type": "code",
   "execution_count": 6,
   "metadata": {},
   "outputs": [
    {
     "name": "stdout",
     "output_type": "stream",
     "text": [
      "this is my first notebook.\n"
     ]
    }
   ],
   "source": [
    "print \"this is my first notebook.\"\n",
    "import numpy as np"
   ]
  },
  {
   "cell_type": "code",
   "execution_count": 1,
   "metadata": {},
   "outputs": [
    {
     "name": "stdout",
     "output_type": "stream",
     "text": [
      "REPL: \n",
      "8\n"
     ]
    }
   ],
   "source": [
    "print \"REPL: \"\n",
    "x = 1\n",
    "print x+7"
   ]
  },
  {
   "cell_type": "code",
   "execution_count": 2,
   "metadata": {
    "collapsed": true
   },
   "outputs": [],
   "source": [
    "def my_func(x):\n",
    "    # or - why you should be careful with python.. \n",
    "    x += 7\n",
    "    print x\n"
   ]
  },
  {
   "cell_type": "code",
   "execution_count": 3,
   "metadata": {},
   "outputs": [
    {
     "name": "stdout",
     "output_type": "stream",
     "text": [
      "17\n",
      "1\n"
     ]
    }
   ],
   "source": [
    "my_func(10)\n",
    "print x"
   ]
  },
  {
   "cell_type": "code",
   "execution_count": 9,
   "metadata": {},
   "outputs": [
    {
     "name": "stdout",
     "output_type": "stream",
     "text": [
      "[0 1 2 3]\n",
      "[ 8  9 10 11]\n"
     ]
    }
   ],
   "source": [
    "y = np.arange(4)\n",
    "print y\n",
    "y+=8\n",
    "print y"
   ]
  },
  {
   "cell_type": "code",
   "execution_count": 10,
   "metadata": {},
   "outputs": [
    {
     "name": "stdout",
     "output_type": "stream",
     "text": [
      "[15 16 17 18]\n",
      "[15 16 17 18]\n"
     ]
    }
   ],
   "source": [
    "my_func(y)\n",
    "print y"
   ]
  },
  {
   "cell_type": "code",
   "execution_count": 11,
   "metadata": {
    "collapsed": true
   },
   "outputs": [],
   "source": [
    "import pandas as pd\n",
    "import numpy as np\n",
    "import matplotlib.pyplot as plt\n",
    "from sklearn import datasets\n",
    "\n",
    "%matplotlib inline"
   ]
  },
  {
   "cell_type": "code",
   "execution_count": 12,
   "metadata": {},
   "outputs": [],
   "source": [
    "# Data types - \n",
    "grades = [['joao', 'F', '20/10/1989', 100], \n",
    "['maria', 'M', '15/12/1993', 80],\n",
    "['pedro', 'M',  '10/13/1991', 90],\n",
    "['catarina', 'F',  '04/08/1980', 84],\n",
    "['felipe', 'F',  '15/12/1993', 95],\n",
    "['adriana', 'M',  '15/12/1993', 60],\n",
    "['yankee', 'F',  '04/08/1980', 70]]\n",
    "df = pd.DataFrame(grades, columns=[\"name\", \"gender\", \"DOB\", \"grade\"])\n"
   ]
  },
  {
   "cell_type": "code",
   "execution_count": 13,
   "metadata": {},
   "outputs": [
    {
     "data": {
      "text/plain": [
       "numpy.ndarray"
      ]
     },
     "execution_count": 13,
     "metadata": {},
     "output_type": "execute_result"
    }
   ],
   "source": [
    "# Series\n",
    "type(df.name)\n",
    "df.name.drop_duplicates()\n",
    "# numpy \n",
    "type(df.name.values)"
   ]
  },
  {
   "cell_type": "code",
   "execution_count": 16,
   "metadata": {},
   "outputs": [
    {
     "data": {
      "text/html": [
       "<div>\n",
       "<style>\n",
       "    .dataframe thead tr:only-child th {\n",
       "        text-align: right;\n",
       "    }\n",
       "\n",
       "    .dataframe thead th {\n",
       "        text-align: left;\n",
       "    }\n",
       "\n",
       "    .dataframe tbody tr th {\n",
       "        vertical-align: top;\n",
       "    }\n",
       "</style>\n",
       "<table border=\"1\" class=\"dataframe\">\n",
       "  <thead>\n",
       "    <tr style=\"text-align: right;\">\n",
       "      <th></th>\n",
       "      <th>name</th>\n",
       "      <th>gender</th>\n",
       "      <th>DOB</th>\n",
       "      <th>grade</th>\n",
       "    </tr>\n",
       "  </thead>\n",
       "  <tbody>\n",
       "    <tr>\n",
       "      <th>5</th>\n",
       "      <td>adriana</td>\n",
       "      <td>M</td>\n",
       "      <td>15/12/1993</td>\n",
       "      <td>60</td>\n",
       "    </tr>\n",
       "    <tr>\n",
       "      <th>6</th>\n",
       "      <td>yankee</td>\n",
       "      <td>F</td>\n",
       "      <td>04/08/1980</td>\n",
       "      <td>70</td>\n",
       "    </tr>\n",
       "  </tbody>\n",
       "</table>\n",
       "</div>"
      ],
      "text/plain": [
       "      name gender         DOB  grade\n",
       "5  adriana      M  15/12/1993     60\n",
       "6   yankee      F  04/08/1980     70"
      ]
     },
     "execution_count": 16,
     "metadata": {},
     "output_type": "execute_result"
    }
   ],
   "source": [
    "# looking on the top: \n",
    "df.head(3)\n",
    "df.tail(2)"
   ]
  },
  {
   "cell_type": "code",
   "execution_count": 17,
   "metadata": {},
   "outputs": [
    {
     "name": "stderr",
     "output_type": "stream",
     "text": [
      "C:\\Users\\shkotler\\AppData\\Local\\Continuum\\anaconda2\\lib\\site-packages\\ipykernel_launcher.py:8: DeprecationWarning: \n",
      ".ix is deprecated. Please use\n",
      ".loc for label based indexing or\n",
      ".iloc for positional indexing\n",
      "\n",
      "See the documentation here:\n",
      "http://pandas.pydata.org/pandas-docs/stable/indexing.html#ix-indexer-is-deprecated\n",
      "  \n"
     ]
    },
    {
     "data": {
      "text/plain": [
       "'joao'"
      ]
     },
     "execution_count": 17,
     "metadata": {},
     "output_type": "execute_result"
    }
   ],
   "source": [
    "# Slicing dataforame:\n",
    "# a column:\n",
    "df.name\n",
    "df[\"name\"]\n",
    "df.loc[:,\"name\"]\n",
    "df.iloc[:,0]\n",
    "# a row: \n",
    "df.ix[1]\n",
    "df.iloc[0, :]\n",
    "df.loc[0, :]\n",
    "# column + row:\n",
    "df.loc[0, \"name\"]"
   ]
  },
  {
   "cell_type": "code",
   "execution_count": 18,
   "metadata": {
    "collapsed": true
   },
   "outputs": [],
   "source": [
    "# adding a column: \n",
    "df[\"new_col\"] = range(len(df))\n",
    "df[\"new_col1\"] = 0\n",
    "# adding a row\n",
    "df.loc[\"junk\"] = range(df.shape[1])"
   ]
  },
  {
   "cell_type": "code",
   "execution_count": 19,
   "metadata": {
    "collapsed": true
   },
   "outputs": [],
   "source": [
    "# drop a columm: \n",
    "df = df.drop([\"new_col\", \"new_col1\"], 1)  # not implace..\n",
    "# drop a row: \n",
    "df = df.drop(\"junk\", 0)"
   ]
  },
  {
   "cell_type": "code",
   "execution_count": 20,
   "metadata": {},
   "outputs": [
    {
     "data": {
      "text/html": [
       "<div>\n",
       "<style>\n",
       "    .dataframe thead tr:only-child th {\n",
       "        text-align: right;\n",
       "    }\n",
       "\n",
       "    .dataframe thead th {\n",
       "        text-align: left;\n",
       "    }\n",
       "\n",
       "    .dataframe tbody tr th {\n",
       "        vertical-align: top;\n",
       "    }\n",
       "</style>\n",
       "<table border=\"1\" class=\"dataframe\">\n",
       "  <thead>\n",
       "    <tr style=\"text-align: right;\">\n",
       "      <th></th>\n",
       "      <th>name</th>\n",
       "      <th>gender</th>\n",
       "      <th>DOB</th>\n",
       "      <th>grade</th>\n",
       "    </tr>\n",
       "  </thead>\n",
       "  <tbody>\n",
       "    <tr>\n",
       "      <th>0</th>\n",
       "      <td>joao</td>\n",
       "      <td>F</td>\n",
       "      <td>20/10/1989</td>\n",
       "      <td>100</td>\n",
       "    </tr>\n",
       "    <tr>\n",
       "      <th>4</th>\n",
       "      <td>felipe</td>\n",
       "      <td>F</td>\n",
       "      <td>15/12/1993</td>\n",
       "      <td>95</td>\n",
       "    </tr>\n",
       "    <tr>\n",
       "      <th>2</th>\n",
       "      <td>pedro</td>\n",
       "      <td>M</td>\n",
       "      <td>10/13/1991</td>\n",
       "      <td>90</td>\n",
       "    </tr>\n",
       "    <tr>\n",
       "      <th>3</th>\n",
       "      <td>catarina</td>\n",
       "      <td>F</td>\n",
       "      <td>04/08/1980</td>\n",
       "      <td>84</td>\n",
       "    </tr>\n",
       "    <tr>\n",
       "      <th>1</th>\n",
       "      <td>maria</td>\n",
       "      <td>M</td>\n",
       "      <td>15/12/1993</td>\n",
       "      <td>80</td>\n",
       "    </tr>\n",
       "    <tr>\n",
       "      <th>6</th>\n",
       "      <td>yankee</td>\n",
       "      <td>F</td>\n",
       "      <td>04/08/1980</td>\n",
       "      <td>70</td>\n",
       "    </tr>\n",
       "    <tr>\n",
       "      <th>5</th>\n",
       "      <td>adriana</td>\n",
       "      <td>M</td>\n",
       "      <td>15/12/1993</td>\n",
       "      <td>60</td>\n",
       "    </tr>\n",
       "  </tbody>\n",
       "</table>\n",
       "</div>"
      ],
      "text/plain": [
       "       name gender         DOB  grade\n",
       "0      joao      F  20/10/1989    100\n",
       "4    felipe      F  15/12/1993     95\n",
       "2     pedro      M  10/13/1991     90\n",
       "3  catarina      F  04/08/1980     84\n",
       "1     maria      M  15/12/1993     80\n",
       "6    yankee      F  04/08/1980     70\n",
       "5   adriana      M  15/12/1993     60"
      ]
     },
     "execution_count": 20,
     "metadata": {},
     "output_type": "execute_result"
    }
   ],
   "source": [
    "# sort values\n",
    "df.sort_values(['grade'], ascending=False)"
   ]
  },
  {
   "cell_type": "code",
   "execution_count": 21,
   "metadata": {},
   "outputs": [
    {
     "data": {
      "text/html": [
       "<div>\n",
       "<style>\n",
       "    .dataframe thead tr:only-child th {\n",
       "        text-align: right;\n",
       "    }\n",
       "\n",
       "    .dataframe thead th {\n",
       "        text-align: left;\n",
       "    }\n",
       "\n",
       "    .dataframe tbody tr th {\n",
       "        vertical-align: top;\n",
       "    }\n",
       "</style>\n",
       "<table border=\"1\" class=\"dataframe\">\n",
       "  <thead>\n",
       "    <tr style=\"text-align: right;\">\n",
       "      <th></th>\n",
       "      <th>name</th>\n",
       "      <th>gender</th>\n",
       "      <th>DOB</th>\n",
       "      <th>grade</th>\n",
       "      <th>grade_*2</th>\n",
       "      <th>name_gender</th>\n",
       "    </tr>\n",
       "  </thead>\n",
       "  <tbody>\n",
       "    <tr>\n",
       "      <th>0</th>\n",
       "      <td>joao</td>\n",
       "      <td>F</td>\n",
       "      <td>20/10/1989</td>\n",
       "      <td>100</td>\n",
       "      <td>200.0</td>\n",
       "      <td>joao_F</td>\n",
       "    </tr>\n",
       "    <tr>\n",
       "      <th>1</th>\n",
       "      <td>maria</td>\n",
       "      <td>M</td>\n",
       "      <td>15/12/1993</td>\n",
       "      <td>80</td>\n",
       "      <td>160.0</td>\n",
       "      <td>maria_M</td>\n",
       "    </tr>\n",
       "    <tr>\n",
       "      <th>2</th>\n",
       "      <td>pedro</td>\n",
       "      <td>M</td>\n",
       "      <td>10/13/1991</td>\n",
       "      <td>90</td>\n",
       "      <td>180.0</td>\n",
       "      <td>pedro_M</td>\n",
       "    </tr>\n",
       "    <tr>\n",
       "      <th>3</th>\n",
       "      <td>catarina</td>\n",
       "      <td>F</td>\n",
       "      <td>04/08/1980</td>\n",
       "      <td>84</td>\n",
       "      <td>168.0</td>\n",
       "      <td>catarina_F</td>\n",
       "    </tr>\n",
       "    <tr>\n",
       "      <th>4</th>\n",
       "      <td>felipe</td>\n",
       "      <td>F</td>\n",
       "      <td>15/12/1993</td>\n",
       "      <td>95</td>\n",
       "      <td>190.0</td>\n",
       "      <td>felipe_F</td>\n",
       "    </tr>\n",
       "    <tr>\n",
       "      <th>5</th>\n",
       "      <td>adriana</td>\n",
       "      <td>M</td>\n",
       "      <td>15/12/1993</td>\n",
       "      <td>60</td>\n",
       "      <td>120.0</td>\n",
       "      <td>adriana_M</td>\n",
       "    </tr>\n",
       "    <tr>\n",
       "      <th>6</th>\n",
       "      <td>yankee</td>\n",
       "      <td>F</td>\n",
       "      <td>04/08/1980</td>\n",
       "      <td>70</td>\n",
       "      <td>140.0</td>\n",
       "      <td>yankee_F</td>\n",
       "    </tr>\n",
       "  </tbody>\n",
       "</table>\n",
       "</div>"
      ],
      "text/plain": [
       "       name gender         DOB  grade  grade_*2 name_gender\n",
       "0      joao      F  20/10/1989    100     200.0      joao_F\n",
       "1     maria      M  15/12/1993     80     160.0     maria_M\n",
       "2     pedro      M  10/13/1991     90     180.0     pedro_M\n",
       "3  catarina      F  04/08/1980     84     168.0  catarina_F\n",
       "4    felipe      F  15/12/1993     95     190.0    felipe_F\n",
       "5   adriana      M  15/12/1993     60     120.0   adriana_M\n",
       "6    yankee      F  04/08/1980     70     140.0    yankee_F"
      ]
     },
     "execution_count": 21,
     "metadata": {},
     "output_type": "execute_result"
    }
   ],
   "source": [
    "# basic function on columns\n",
    "df.shape\n",
    "df.describe()\n",
    "df.sum(1), df.sum(0)\n",
    "#mean, count, std..\n",
    "\n",
    "# apply : \n",
    "df[\"grade_*2\"] = df.grade.apply(lambda x: x*2.)\n",
    "df[\"name_gender\"] = df.name + \"_\" + df.gender\n",
    "df"
   ]
  },
  {
   "cell_type": "code",
   "execution_count": 22,
   "metadata": {},
   "outputs": [],
   "source": [
    "df.drop_duplicates()\n",
    "df[\"ccc\"] = None\n",
    "df = df.fillna(-9)\n",
    "df = df.drop(\"ccc\", 1)"
   ]
  },
  {
   "cell_type": "code",
   "execution_count": 24,
   "metadata": {
    "collapsed": true
   },
   "outputs": [],
   "source": [
    "# Data types - \n",
    "grades = [['joao', 'F', \"Computer\"], \n",
    "['maria', 'M', \"Laws\"],\n",
    "['pedro', 'M', \"Computer\"],\n",
    "['catarina', 'F', \"Physics\"]]\n",
    "df2 = pd.DataFrame(grades, columns=[\"name\", \"gender\", \"degree\"])"
   ]
  },
  {
   "cell_type": "code",
   "execution_count": 25,
   "metadata": {},
   "outputs": [
    {
     "data": {
      "text/html": [
       "<div>\n",
       "<style>\n",
       "    .dataframe thead tr:only-child th {\n",
       "        text-align: right;\n",
       "    }\n",
       "\n",
       "    .dataframe thead th {\n",
       "        text-align: left;\n",
       "    }\n",
       "\n",
       "    .dataframe tbody tr th {\n",
       "        vertical-align: top;\n",
       "    }\n",
       "</style>\n",
       "<table border=\"1\" class=\"dataframe\">\n",
       "  <thead>\n",
       "    <tr style=\"text-align: right;\">\n",
       "      <th></th>\n",
       "      <th>name</th>\n",
       "      <th>gender</th>\n",
       "      <th>degree</th>\n",
       "    </tr>\n",
       "  </thead>\n",
       "  <tbody>\n",
       "    <tr>\n",
       "      <th>0</th>\n",
       "      <td>joao</td>\n",
       "      <td>F</td>\n",
       "      <td>Computer</td>\n",
       "    </tr>\n",
       "    <tr>\n",
       "      <th>1</th>\n",
       "      <td>maria</td>\n",
       "      <td>M</td>\n",
       "      <td>Laws</td>\n",
       "    </tr>\n",
       "  </tbody>\n",
       "</table>\n",
       "</div>"
      ],
      "text/plain": [
       "    name gender    degree\n",
       "0   joao      F  Computer\n",
       "1  maria      M      Laws"
      ]
     },
     "execution_count": 25,
     "metadata": {},
     "output_type": "execute_result"
    }
   ],
   "source": [
    "df2.head(2)"
   ]
  },
  {
   "cell_type": "code",
   "execution_count": null,
   "metadata": {},
   "outputs": [],
   "source": [
    "df"
   ]
  },
  {
   "cell_type": "code",
   "execution_count": 26,
   "metadata": {},
   "outputs": [
    {
     "data": {
      "text/html": [
       "<div>\n",
       "<style>\n",
       "    .dataframe thead tr:only-child th {\n",
       "        text-align: right;\n",
       "    }\n",
       "\n",
       "    .dataframe thead th {\n",
       "        text-align: left;\n",
       "    }\n",
       "\n",
       "    .dataframe tbody tr th {\n",
       "        vertical-align: top;\n",
       "    }\n",
       "</style>\n",
       "<table border=\"1\" class=\"dataframe\">\n",
       "  <thead>\n",
       "    <tr style=\"text-align: right;\">\n",
       "      <th></th>\n",
       "      <th>DOB</th>\n",
       "      <th>degree</th>\n",
       "      <th>gender</th>\n",
       "      <th>grade</th>\n",
       "      <th>grade_*2</th>\n",
       "      <th>name</th>\n",
       "      <th>name_gender</th>\n",
       "    </tr>\n",
       "  </thead>\n",
       "  <tbody>\n",
       "    <tr>\n",
       "      <th>0</th>\n",
       "      <td>NaN</td>\n",
       "      <td>Computer</td>\n",
       "      <td>F</td>\n",
       "      <td>NaN</td>\n",
       "      <td>NaN</td>\n",
       "      <td>joao</td>\n",
       "      <td>NaN</td>\n",
       "    </tr>\n",
       "    <tr>\n",
       "      <th>1</th>\n",
       "      <td>NaN</td>\n",
       "      <td>Laws</td>\n",
       "      <td>M</td>\n",
       "      <td>NaN</td>\n",
       "      <td>NaN</td>\n",
       "      <td>maria</td>\n",
       "      <td>NaN</td>\n",
       "    </tr>\n",
       "    <tr>\n",
       "      <th>2</th>\n",
       "      <td>NaN</td>\n",
       "      <td>Computer</td>\n",
       "      <td>M</td>\n",
       "      <td>NaN</td>\n",
       "      <td>NaN</td>\n",
       "      <td>pedro</td>\n",
       "      <td>NaN</td>\n",
       "    </tr>\n",
       "    <tr>\n",
       "      <th>3</th>\n",
       "      <td>NaN</td>\n",
       "      <td>Physics</td>\n",
       "      <td>F</td>\n",
       "      <td>NaN</td>\n",
       "      <td>NaN</td>\n",
       "      <td>catarina</td>\n",
       "      <td>NaN</td>\n",
       "    </tr>\n",
       "    <tr>\n",
       "      <th>0</th>\n",
       "      <td>20/10/1989</td>\n",
       "      <td>NaN</td>\n",
       "      <td>F</td>\n",
       "      <td>100.0</td>\n",
       "      <td>200.0</td>\n",
       "      <td>joao</td>\n",
       "      <td>joao_F</td>\n",
       "    </tr>\n",
       "    <tr>\n",
       "      <th>1</th>\n",
       "      <td>15/12/1993</td>\n",
       "      <td>NaN</td>\n",
       "      <td>M</td>\n",
       "      <td>80.0</td>\n",
       "      <td>160.0</td>\n",
       "      <td>maria</td>\n",
       "      <td>maria_M</td>\n",
       "    </tr>\n",
       "    <tr>\n",
       "      <th>2</th>\n",
       "      <td>10/13/1991</td>\n",
       "      <td>NaN</td>\n",
       "      <td>M</td>\n",
       "      <td>90.0</td>\n",
       "      <td>180.0</td>\n",
       "      <td>pedro</td>\n",
       "      <td>pedro_M</td>\n",
       "    </tr>\n",
       "    <tr>\n",
       "      <th>3</th>\n",
       "      <td>04/08/1980</td>\n",
       "      <td>NaN</td>\n",
       "      <td>F</td>\n",
       "      <td>84.0</td>\n",
       "      <td>168.0</td>\n",
       "      <td>catarina</td>\n",
       "      <td>catarina_F</td>\n",
       "    </tr>\n",
       "    <tr>\n",
       "      <th>4</th>\n",
       "      <td>15/12/1993</td>\n",
       "      <td>NaN</td>\n",
       "      <td>F</td>\n",
       "      <td>95.0</td>\n",
       "      <td>190.0</td>\n",
       "      <td>felipe</td>\n",
       "      <td>felipe_F</td>\n",
       "    </tr>\n",
       "    <tr>\n",
       "      <th>5</th>\n",
       "      <td>15/12/1993</td>\n",
       "      <td>NaN</td>\n",
       "      <td>M</td>\n",
       "      <td>60.0</td>\n",
       "      <td>120.0</td>\n",
       "      <td>adriana</td>\n",
       "      <td>adriana_M</td>\n",
       "    </tr>\n",
       "    <tr>\n",
       "      <th>6</th>\n",
       "      <td>04/08/1980</td>\n",
       "      <td>NaN</td>\n",
       "      <td>F</td>\n",
       "      <td>70.0</td>\n",
       "      <td>140.0</td>\n",
       "      <td>yankee</td>\n",
       "      <td>yankee_F</td>\n",
       "    </tr>\n",
       "  </tbody>\n",
       "</table>\n",
       "</div>"
      ],
      "text/plain": [
       "          DOB    degree gender  grade  grade_*2      name name_gender\n",
       "0         NaN  Computer      F    NaN       NaN      joao         NaN\n",
       "1         NaN      Laws      M    NaN       NaN     maria         NaN\n",
       "2         NaN  Computer      M    NaN       NaN     pedro         NaN\n",
       "3         NaN   Physics      F    NaN       NaN  catarina         NaN\n",
       "0  20/10/1989       NaN      F  100.0     200.0      joao      joao_F\n",
       "1  15/12/1993       NaN      M   80.0     160.0     maria     maria_M\n",
       "2  10/13/1991       NaN      M   90.0     180.0     pedro     pedro_M\n",
       "3  04/08/1980       NaN      F   84.0     168.0  catarina  catarina_F\n",
       "4  15/12/1993       NaN      F   95.0     190.0    felipe    felipe_F\n",
       "5  15/12/1993       NaN      M   60.0     120.0   adriana   adriana_M\n",
       "6  04/08/1980       NaN      F   70.0     140.0    yankee    yankee_F"
      ]
     },
     "execution_count": 26,
     "metadata": {},
     "output_type": "execute_result"
    }
   ],
   "source": [
    "# merge\n",
    "pd.merge(df, df2, on=[\"name\", \"gender\"], how=\"left\")\n",
    "pd.merge(df, df2, on=[\"name\", \"gender\"], how=\"inner\")\n",
    "# append\n",
    "df2.append(df)\n",
    "# concatenate..(see documentation.. )"
   ]
  },
  {
   "cell_type": "code",
   "execution_count": 27,
   "metadata": {},
   "outputs": [
    {
     "data": {
      "text/html": [
       "<div>\n",
       "<style>\n",
       "    .dataframe thead tr:only-child th {\n",
       "        text-align: right;\n",
       "    }\n",
       "\n",
       "    .dataframe thead th {\n",
       "        text-align: left;\n",
       "    }\n",
       "\n",
       "    .dataframe tbody tr th {\n",
       "        vertical-align: top;\n",
       "    }\n",
       "</style>\n",
       "<table border=\"1\" class=\"dataframe\">\n",
       "  <thead>\n",
       "    <tr style=\"text-align: right;\">\n",
       "      <th></th>\n",
       "      <th>name</th>\n",
       "      <th>gender</th>\n",
       "      <th>DOB</th>\n",
       "      <th>grade</th>\n",
       "      <th>grade_*2</th>\n",
       "      <th>name_gender</th>\n",
       "      <th>is_female</th>\n",
       "    </tr>\n",
       "  </thead>\n",
       "  <tbody>\n",
       "    <tr>\n",
       "      <th>0</th>\n",
       "      <td>joao</td>\n",
       "      <td>F</td>\n",
       "      <td>20/10/1989</td>\n",
       "      <td>100</td>\n",
       "      <td>200.0</td>\n",
       "      <td>joao_F</td>\n",
       "      <td>True</td>\n",
       "    </tr>\n",
       "    <tr>\n",
       "      <th>3</th>\n",
       "      <td>catarina</td>\n",
       "      <td>F</td>\n",
       "      <td>04/08/1980</td>\n",
       "      <td>84</td>\n",
       "      <td>168.0</td>\n",
       "      <td>catarina_F</td>\n",
       "      <td>True</td>\n",
       "    </tr>\n",
       "    <tr>\n",
       "      <th>4</th>\n",
       "      <td>felipe</td>\n",
       "      <td>F</td>\n",
       "      <td>15/12/1993</td>\n",
       "      <td>95</td>\n",
       "      <td>190.0</td>\n",
       "      <td>felipe_F</td>\n",
       "      <td>True</td>\n",
       "    </tr>\n",
       "    <tr>\n",
       "      <th>6</th>\n",
       "      <td>yankee</td>\n",
       "      <td>F</td>\n",
       "      <td>04/08/1980</td>\n",
       "      <td>70</td>\n",
       "      <td>140.0</td>\n",
       "      <td>yankee_F</td>\n",
       "      <td>True</td>\n",
       "    </tr>\n",
       "  </tbody>\n",
       "</table>\n",
       "</div>"
      ],
      "text/plain": [
       "       name gender         DOB  grade  grade_*2 name_gender  is_female\n",
       "0      joao      F  20/10/1989    100     200.0      joao_F       True\n",
       "3  catarina      F  04/08/1980     84     168.0  catarina_F       True\n",
       "4    felipe      F  15/12/1993     95     190.0    felipe_F       True\n",
       "6    yankee      F  04/08/1980     70     140.0    yankee_F       True"
      ]
     },
     "execution_count": 27,
     "metadata": {},
     "output_type": "execute_result"
    }
   ],
   "source": [
    "# conditions: \n",
    "df[df.gender==\"F\"]\n",
    "df[(df.gender==\"F\") & (df.grade>80)]\n",
    "df[\"is_female\"] = df.gender==\"F\"\n",
    "df[df.is_female]"
   ]
  },
  {
   "cell_type": "code",
   "execution_count": 28,
   "metadata": {},
   "outputs": [
    {
     "data": {
      "text/plain": [
       "gender\n",
       "F    87.250000\n",
       "M    76.666667\n",
       "Name: grade, dtype: float64"
      ]
     },
     "execution_count": 28,
     "metadata": {},
     "output_type": "execute_result"
    }
   ],
   "source": [
    "# groupby\n",
    "df.groupby([\"gender\"]).mean()[\"grade\"]"
   ]
  },
  {
   "cell_type": "code",
   "execution_count": 29,
   "metadata": {
    "collapsed": true
   },
   "outputs": [],
   "source": [
    "# be aware of python - \n",
    "def my_func(df):\n",
    "    df[\"hello\"] = 1\n",
    "    return \"hi\""
   ]
  },
  {
   "cell_type": "code",
   "execution_count": null,
   "metadata": {
    "collapsed": true
   },
   "outputs": [],
   "source": [
    "my_func(df)"
   ]
  },
  {
   "cell_type": "code",
   "execution_count": null,
   "metadata": {},
   "outputs": [],
   "source": []
  },
  {
   "cell_type": "markdown",
   "metadata": {},
   "source": [
    "# DATA SET - BOSTON"
   ]
  },
  {
   "cell_type": "code",
   "execution_count": null,
   "metadata": {
    "collapsed": true
   },
   "outputs": [],
   "source": [
    "# Load data set: \n",
    "boston = datasets.load_boston()\n",
    "y = boston['target']\n",
    "x = pd.DataFrame(boston['data'])\n",
    "x.columns = boston['feature_names']"
   ]
  },
  {
   "cell_type": "code",
   "execution_count": 33,
   "metadata": {},
   "outputs": [],
   "source": [
    "#print boston['DESCR']"
   ]
  },
  {
   "cell_type": "code",
   "execution_count": null,
   "metadata": {
    "collapsed": true
   },
   "outputs": [],
   "source": [
    "boston_df = x\n",
    "boston_df[\"Prices\"] = y\n",
    "boston_df"
   ]
  },
  {
   "cell_type": "code",
   "execution_count": 35,
   "metadata": {},
   "outputs": [],
   "source": [
    "# Save\\write to csv: \n",
    "boston_df.to_csv(\"boston_prices.csv\", index=None)\n",
    "boston_df = pd.DataFrame.from_csv(\"boston_prices.csv\", index_col=None)"
   ]
  },
  {
   "cell_type": "code",
   "execution_count": 36,
   "metadata": {},
   "outputs": [
    {
     "data": {
      "text/plain": [
       "CRIM         8.596783\n",
       "ZN          23.322453\n",
       "INDUS        6.860353\n",
       "CHAS         0.253994\n",
       "NOX          0.115878\n",
       "RM           0.702617\n",
       "AGE         28.148861\n",
       "DIS          2.105710\n",
       "RAD          8.707259\n",
       "TAX        168.537116\n",
       "PTRATIO      2.164946\n",
       "B           91.294864\n",
       "LSTAT        7.141062\n",
       "Prices       9.197104\n",
       "dtype: float64"
      ]
     },
     "execution_count": 36,
     "metadata": {},
     "output_type": "execute_result"
    }
   ],
   "source": [
    "boston_df.mean()\n",
    "boston_df.std()"
   ]
  },
  {
   "cell_type": "code",
   "execution_count": null,
   "metadata": {
    "collapsed": true
   },
   "outputs": [],
   "source": [
    "## NOW - 10 minutes to load the data - and noramlized the dataframe.. "
   ]
  },
  {
   "cell_type": "code",
   "execution_count": null,
   "metadata": {
    "collapsed": true
   },
   "outputs": [],
   "source": [
    "# normalize a column (PCA... )\n",
    "s = (boston_df.B-boston_df.B.mean())/boston_df.B.std()\n",
    "s.mean(), s.std()\n",
    "boston_df.B = s\n",
    "# normalize matrix.. \n",
    "(boston_df - boston_df.mean())/boston_df.std()"
   ]
  },
  {
   "cell_type": "code",
   "execution_count": null,
   "metadata": {},
   "outputs": [],
   "source": [
    "# pearson correlation \n",
    "np.corrcoef(boston_df.INDUS.values, boston_df.CRIM.values)[0, 1]"
   ]
  },
  {
   "cell_type": "code",
   "execution_count": null,
   "metadata": {},
   "outputs": [],
   "source": [
    "#print boston['DESCR']\n",
    "np.corrcoef(boston_df.RM, boston_df.AGE.values)[0, 1]"
   ]
  },
  {
   "cell_type": "code",
   "execution_count": 40,
   "metadata": {
    "collapsed": true
   },
   "outputs": [],
   "source": [
    "boston_df[\"age*rooms\"] = boston_df.RM.values * boston_df.AGE.values"
   ]
  },
  {
   "cell_type": "code",
   "execution_count": 38,
   "metadata": {},
   "outputs": [
    {
     "data": {
      "text/plain": [
       "<matplotlib.axes._subplots.AxesSubplot at 0xcf9ec18>"
      ]
     },
     "execution_count": 38,
     "metadata": {},
     "output_type": "execute_result"
    },
    {
     "data": {
      "image/png": "[encoded data removed]",
      "text/plain": [
       "<matplotlib.figure.Figure at 0xcdfaba8>"
      ]
     },
     "metadata": {},
     "output_type": "display_data"
    },
    {
     "data": {
      "image/png": "[encoded data removed]",
      "text/plain": [
       "<matplotlib.figure.Figure at 0xcf9e748>"
      ]
     },
     "metadata": {},
     "output_type": "display_data"
    }
   ],
   "source": [
    "plt.scatter(boston_df.PTRATIO.values , boston_df.Prices.values)\n",
    "plt.xlabel(\"number of rooms\")\n",
    "plt.ylabel(\"Age\")\n",
    "boston_df.loc[:,[\"RM\", \"AGE\"]].plot()"
   ]
  },
  {
   "cell_type": "code",
   "execution_count": 41,
   "metadata": {},
   "outputs": [
    {
     "data": {
      "text/plain": [
       "<matplotlib.legend.Legend at 0xcdba5f8>"
      ]
     },
     "execution_count": 41,
     "metadata": {},
     "output_type": "execute_result"
    },
    {
     "data": {
      "image/png": "[encoded data removed]",
      "text/plain": [
       "<matplotlib.figure.Figure at 0xd018198>"
      ]
     },
     "metadata": {},
     "output_type": "display_data"
    }
   ],
   "source": [
    "plt.hist(boston_df.Prices.values, label=\"prices\", normed=1)\n",
    "plt.legend()"
   ]
  },
  {
   "cell_type": "code",
   "execution_count": 42,
   "metadata": {},
   "outputs": [
    {
     "data": {
      "text/plain": [
       "<matplotlib.collections.PathCollection at 0xd0e6dd8>"
      ]
     },
     "execution_count": 42,
     "metadata": {},
     "output_type": "execute_result"
    },
    {
     "data": {
      "image/png": "[encoded data removed]",
      "text/plain": [
       "<matplotlib.figure.Figure at 0xe3f4908>"
      ]
     },
     "metadata": {},
     "output_type": "display_data"
    }
   ],
   "source": [
    "plt.scatter(boston_df.RM.values , boston_df.Prices.values)"
   ]
  },
  {
   "cell_type": "code",
   "execution_count": 43,
   "metadata": {},
   "outputs": [],
   "source": [
    "from sklearn import  linear_model as lr\n",
    "from sklearn.metrics import mean_squared_error, r2_score"
   ]
  },
  {
   "cell_type": "code",
   "execution_count": 44,
   "metadata": {},
   "outputs": [
    {
     "name": "stdout",
     "output_type": "stream",
     "text": [
      "506\n"
     ]
    }
   ],
   "source": [
    "# split to train\\ test\n",
    "rand_idx = np.random.permutation(boston_df.index)\n",
    "print len(rand_idx)\n",
    "train_idx = rand_idx[:400]\n",
    "test_idx = rand_idx[400:]\n",
    "df_train = boston_df.loc[train_idx,:]\n",
    "df_test = boston_df.loc[test_idx,:]"
   ]
  },
  {
   "cell_type": "code",
   "execution_count": 45,
   "metadata": {},
   "outputs": [],
   "source": [
    "y_train = boston_df.Prices.values\n",
    "x_trian = boston_df.drop(['Prices'], 1)"
   ]
  },
  {
   "cell_type": "code",
   "execution_count": 46,
   "metadata": {
    "collapsed": true
   },
   "outputs": [],
   "source": [
    "y_train = df_train.Prices.values\n",
    "x_train = df_train.drop(['Prices'], 1)\n",
    "y_test = df_test.Prices.values\n",
    "x_test = df_test.drop(['Prices'], 1)"
   ]
  },
  {
   "cell_type": "code",
   "execution_count": 47,
   "metadata": {
    "collapsed": true
   },
   "outputs": [],
   "source": [
    "regr = lr.LinearRegression()\n",
    "\n",
    "# Train the model using the training sets\n",
    "regr.fit(x_train, y_train)\n",
    "y_pred = regr.predict(x_test)"
   ]
  },
  {
   "cell_type": "code",
   "execution_count": 48,
   "metadata": {},
   "outputs": [
    {
     "data": {
      "text/html": [
       "<div>\n",
       "<style>\n",
       "    .dataframe thead tr:only-child th {\n",
       "        text-align: right;\n",
       "    }\n",
       "\n",
       "    .dataframe thead th {\n",
       "        text-align: left;\n",
       "    }\n",
       "\n",
       "    .dataframe tbody tr th {\n",
       "        vertical-align: top;\n",
       "    }\n",
       "</style>\n",
       "<table border=\"1\" class=\"dataframe\">\n",
       "  <thead>\n",
       "    <tr style=\"text-align: right;\">\n",
       "      <th></th>\n",
       "      <th>weight</th>\n",
       "      <th>feature</th>\n",
       "    </tr>\n",
       "  </thead>\n",
       "  <tbody>\n",
       "    <tr>\n",
       "      <th>4</th>\n",
       "      <td>-17.362667</td>\n",
       "      <td>NOX</td>\n",
       "    </tr>\n",
       "    <tr>\n",
       "      <th>7</th>\n",
       "      <td>-1.488561</td>\n",
       "      <td>DIS</td>\n",
       "    </tr>\n",
       "    <tr>\n",
       "      <th>10</th>\n",
       "      <td>-0.940862</td>\n",
       "      <td>PTRATIO</td>\n",
       "    </tr>\n",
       "    <tr>\n",
       "      <th>12</th>\n",
       "      <td>-0.575974</td>\n",
       "      <td>LSTAT</td>\n",
       "    </tr>\n",
       "    <tr>\n",
       "      <th>0</th>\n",
       "      <td>-0.156197</td>\n",
       "      <td>CRIM</td>\n",
       "    </tr>\n",
       "    <tr>\n",
       "      <th>13</th>\n",
       "      <td>-0.086756</td>\n",
       "      <td>age*rooms</td>\n",
       "    </tr>\n",
       "    <tr>\n",
       "      <th>9</th>\n",
       "      <td>-0.011927</td>\n",
       "      <td>TAX</td>\n",
       "    </tr>\n",
       "    <tr>\n",
       "      <th>2</th>\n",
       "      <td>-0.003791</td>\n",
       "      <td>INDUS</td>\n",
       "    </tr>\n",
       "    <tr>\n",
       "      <th>1</th>\n",
       "      <td>0.019173</td>\n",
       "      <td>ZN</td>\n",
       "    </tr>\n",
       "    <tr>\n",
       "      <th>8</th>\n",
       "      <td>0.315316</td>\n",
       "      <td>RAD</td>\n",
       "    </tr>\n",
       "    <tr>\n",
       "      <th>6</th>\n",
       "      <td>0.552045</td>\n",
       "      <td>AGE</td>\n",
       "    </tr>\n",
       "    <tr>\n",
       "      <th>11</th>\n",
       "      <td>0.897485</td>\n",
       "      <td>B</td>\n",
       "    </tr>\n",
       "    <tr>\n",
       "      <th>3</th>\n",
       "      <td>1.824149</td>\n",
       "      <td>CHAS</td>\n",
       "    </tr>\n",
       "    <tr>\n",
       "      <th>5</th>\n",
       "      <td>10.114791</td>\n",
       "      <td>RM</td>\n",
       "    </tr>\n",
       "  </tbody>\n",
       "</table>\n",
       "</div>"
      ],
      "text/plain": [
       "       weight    feature\n",
       "4  -17.362667        NOX\n",
       "7   -1.488561        DIS\n",
       "10  -0.940862    PTRATIO\n",
       "12  -0.575974      LSTAT\n",
       "0   -0.156197       CRIM\n",
       "13  -0.086756  age*rooms\n",
       "9   -0.011927        TAX\n",
       "2   -0.003791      INDUS\n",
       "1    0.019173         ZN\n",
       "8    0.315316        RAD\n",
       "6    0.552045        AGE\n",
       "11   0.897485          B\n",
       "3    1.824149       CHAS\n",
       "5   10.114791         RM"
      ]
     },
     "execution_count": 48,
     "metadata": {},
     "output_type": "execute_result"
    }
   ],
   "source": [
    "f_weights = pd.DataFrame(zip(regr.coef_, x_train.columns), columns=[\"weight\", \"feature\"])\n",
    "f_weights.sort_values(['weight'])"
   ]
  },
  {
   "cell_type": "code",
   "execution_count": 49,
   "metadata": {},
   "outputs": [
    {
     "name": "stdout",
     "output_type": "stream",
     "text": [
      "Mean squared error: 20.21\n",
      "Variance score: 0.71\n"
     ]
    }
   ],
   "source": [
    "# The mean squared error\n",
    "print(\"Mean squared error: %.2f\"\n",
    "      % mean_squared_error(y_pred, y_test))\n",
    "\n",
    "# Explained variance score: 1 is perfect prediction\n",
    "print('Variance score: %.2f' % r2_score(y_test, y_pred))\n"
   ]
  },
  {
   "cell_type": "code",
   "execution_count": 51,
   "metadata": {},
   "outputs": [
    {
     "data": {
      "text/plain": [
       "[<matplotlib.lines.Line2D at 0xe843a90>]"
      ]
     },
     "execution_count": 51,
     "metadata": {},
     "output_type": "execute_result"
    },
    {
     "data": {
      "image/png": "[encoded data removed]",
      "text/plain": [
       "<matplotlib.figure.Figure at 0xe843b00>"
      ]
     },
     "metadata": {},
     "output_type": "display_data"
    }
   ],
   "source": [
    "# Plot outputs\n",
    "plt.plot(y_test, \"--o\",  color='black')\n",
    "plt.plot(y_pred, \"--o\", color='blue')\n"
   ]
  },
  {
   "cell_type": "code",
   "execution_count": null,
   "metadata": {},
   "outputs": [],
   "source": []
  },
  {
   "cell_type": "code",
   "execution_count": null,
   "metadata": {},
   "outputs": [],
   "source": []
  }
 ],
 "metadata": {
  "kernelspec": {
   "display_name": "Python 2",
   "language": "python",
   "name": "python2"
  },
  "language_info": {
   "codemirror_mode": {
    "name": "ipython",
    "version": 2
   },
   "file_extension": ".py",
   "mimetype": "text/x-python",
   "name": "python",
   "nbconvert_exporter": "python",
   "pygments_lexer": "ipython2",
   "version": "2.7.14"
  }
 },
 "nbformat": 4,
 "nbformat_minor": 2
}
