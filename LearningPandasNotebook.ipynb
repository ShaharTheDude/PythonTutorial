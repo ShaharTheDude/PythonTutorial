{
 "cells": [
  {
   "cell_type": "markdown",
   "metadata": {},
   "source": [
    "# Python - Tutorial"
   ]
  },
  {
   "cell_type": "markdown",
   "metadata": {},
   "source": [
    "Basic Python:"
   ]
  },
  {
   "cell_type": "code",
   "execution_count": 1,
   "metadata": {},
   "outputs": [
    {
     "name": "stdout",
     "output_type": "stream",
     "text": [
      "this is my first notebook.\n"
     ]
    }
   ],
   "source": [
    "print (\"this is my first notebook.\")\n",
    "import numpy as np"
   ]
  },
  {
   "cell_type": "code",
   "execution_count": 2,
   "metadata": {},
   "outputs": [
    {
     "name": "stdout",
     "output_type": "stream",
     "text": [
      "REPL: \n"
     ]
    }
   ],
   "source": [
    "print (\"REPL: \")"
   ]
  },
  {
   "cell_type": "code",
   "execution_count": 3,
   "metadata": {
    "collapsed": true
   },
   "outputs": [],
   "source": [
    "# this is a comment\n",
    "my_list = [1,2,3,4]\n",
    "my_string = \"Shani\"\n",
    "x = 5"
   ]
  },
  {
   "cell_type": "code",
   "execution_count": 4,
   "metadata": {},
   "outputs": [
    {
     "data": {
      "text/plain": [
       "[2, 3, 5]"
      ]
     },
     "execution_count": 4,
     "metadata": {},
     "output_type": "execute_result"
    }
   ],
   "source": [
    "my_list.append(5)\n",
    "my_list.pop(3)\n",
    "my_list.pop(0)\n",
    "my_list"
   ]
  },
  {
   "cell_type": "code",
   "execution_count": 5,
   "metadata": {},
   "outputs": [
    {
     "name": "stdout",
     "output_type": "stream",
     "text": [
      "8\n"
     ]
    }
   ],
   "source": [
    "x = 1\n",
    "print (x+7)"
   ]
  },
  {
   "cell_type": "code",
   "execution_count": 6,
   "metadata": {
    "collapsed": true
   },
   "outputs": [],
   "source": [
    "def my_func(x):\n",
    "    # or - why you should be careful with python.. \n",
    "    x += 7\n",
    "    print (\"inside my_func, x=%s\" % x)\n",
    " "
   ]
  },
  {
   "cell_type": "code",
   "execution_count": 7,
   "metadata": {},
   "outputs": [
    {
     "name": "stdout",
     "output_type": "stream",
     "text": [
      "inside my_func, x=17\n",
      "1\n"
     ]
    }
   ],
   "source": [
    "my_func(10)\n",
    "print (x)"
   ]
  },
  {
   "cell_type": "code",
   "execution_count": 8,
   "metadata": {},
   "outputs": [
    {
     "name": "stdout",
     "output_type": "stream",
     "text": [
      "('y- first time:', array([0, 1, 2, 3]))\n",
      "('y - after adding 8:', array([ 8,  9, 10, 11]))\n",
      "inside my_func, x=[15 16 17 18]\n",
      "('y - after running my_func:', array([15, 16, 17, 18]))\n"
     ]
    }
   ],
   "source": [
    "y = np.arange(4)\n",
    "print (\"y- first time:\", y)\n",
    "y+=8\n",
    "print (\"y - after adding 8:\", y)\n",
    "my_func(y)\n",
    "print (\"y - after running my_func:\", y)"
   ]
  },
  {
   "cell_type": "code",
   "execution_count": 9,
   "metadata": {
    "collapsed": true
   },
   "outputs": [],
   "source": [
    "import pandas as pd\n",
    "import numpy as np\n",
    "import matplotlib.pyplot as plt\n",
    "from sklearn import datasets\n",
    "\n",
    "%matplotlib inline"
   ]
  },
  {
   "cell_type": "code",
   "execution_count": 10,
   "metadata": {},
   "outputs": [
    {
     "data": {
      "text/html": [
       "<div>\n",
       "<style>\n",
       "    .dataframe thead tr:only-child th {\n",
       "        text-align: right;\n",
       "    }\n",
       "\n",
       "    .dataframe thead th {\n",
       "        text-align: left;\n",
       "    }\n",
       "\n",
       "    .dataframe tbody tr th {\n",
       "        vertical-align: top;\n",
       "    }\n",
       "</style>\n",
       "<table border=\"1\" class=\"dataframe\">\n",
       "  <thead>\n",
       "    <tr style=\"text-align: right;\">\n",
       "      <th></th>\n",
       "      <th>name</th>\n",
       "      <th>gender</th>\n",
       "      <th>DOB</th>\n",
       "      <th>grade</th>\n",
       "    </tr>\n",
       "  </thead>\n",
       "  <tbody>\n",
       "    <tr>\n",
       "      <th>0</th>\n",
       "      <td>joao</td>\n",
       "      <td>F</td>\n",
       "      <td>20/10/1989</td>\n",
       "      <td>100</td>\n",
       "    </tr>\n",
       "    <tr>\n",
       "      <th>1</th>\n",
       "      <td>maria</td>\n",
       "      <td>M</td>\n",
       "      <td>15/12/1993</td>\n",
       "      <td>80</td>\n",
       "    </tr>\n",
       "    <tr>\n",
       "      <th>2</th>\n",
       "      <td>pedro</td>\n",
       "      <td>M</td>\n",
       "      <td>10/13/1991</td>\n",
       "      <td>90</td>\n",
       "    </tr>\n",
       "    <tr>\n",
       "      <th>3</th>\n",
       "      <td>catarina</td>\n",
       "      <td>F</td>\n",
       "      <td>04/08/1980</td>\n",
       "      <td>84</td>\n",
       "    </tr>\n",
       "    <tr>\n",
       "      <th>4</th>\n",
       "      <td>felipe</td>\n",
       "      <td>F</td>\n",
       "      <td>15/12/1993</td>\n",
       "      <td>95</td>\n",
       "    </tr>\n",
       "    <tr>\n",
       "      <th>5</th>\n",
       "      <td>adriana</td>\n",
       "      <td>M</td>\n",
       "      <td>15/12/1993</td>\n",
       "      <td>60</td>\n",
       "    </tr>\n",
       "    <tr>\n",
       "      <th>6</th>\n",
       "      <td>yankee</td>\n",
       "      <td>F</td>\n",
       "      <td>04/08/1980</td>\n",
       "      <td>70</td>\n",
       "    </tr>\n",
       "  </tbody>\n",
       "</table>\n",
       "</div>"
      ],
      "text/plain": [
       "       name gender         DOB  grade\n",
       "0      joao      F  20/10/1989    100\n",
       "1     maria      M  15/12/1993     80\n",
       "2     pedro      M  10/13/1991     90\n",
       "3  catarina      F  04/08/1980     84\n",
       "4    felipe      F  15/12/1993     95\n",
       "5   adriana      M  15/12/1993     60\n",
       "6    yankee      F  04/08/1980     70"
      ]
     },
     "execution_count": 10,
     "metadata": {},
     "output_type": "execute_result"
    }
   ],
   "source": [
    "grades = [['joao', 'F', '20/10/1989', 100], \n",
    "['maria', 'M', '15/12/1993', 80],\n",
    "['pedro', 'M',  '10/13/1991', 90],\n",
    "['catarina', 'F',  '04/08/1980', 84],\n",
    "['felipe', 'F',  '15/12/1993', 95],\n",
    "['adriana', 'M',  '15/12/1993', 60],\n",
    "['yankee', 'F',  '04/08/1980', 70]]\n",
    "df = pd.DataFrame(grades, columns=[\"name\", \"gender\", \"DOB\", \"grade\"])\n",
    "df"
   ]
  },
  {
   "cell_type": "code",
   "execution_count": 11,
   "metadata": {
    "collapsed": true
   },
   "outputs": [],
   "source": [
    "# looking on the index: \n",
    "df.index\n",
    "# looking on the columns:\n",
    "df.columns\n",
    "# looking on the top\\tail of a dataframe: \n",
    "df.head(3)\n",
    "df.tail(2)\n",
    "\n",
    "# we can change the columns and the index: \n",
    "df.index = range(1, len(df)+1)\n",
    "df.columns = [i.title() for i in df.columns]"
   ]
  },
  {
   "cell_type": "code",
   "execution_count": 12,
   "metadata": {},
   "outputs": [
    {
     "name": "stderr",
     "output_type": "stream",
     "text": [
      "C:\\ProgramData\\Anaconda2\\lib\\site-packages\\ipykernel_launcher.py:1: DeprecationWarning: \n",
      ".ix is deprecated. Please use\n",
      ".loc for label based indexing or\n",
      ".iloc for positional indexing\n",
      "\n",
      "See the documentation here:\n",
      "http://pandas.pydata.org/pandas-docs/stable/indexing.html#deprecate_ix\n",
      "  \"\"\"Entry point for launching an IPython kernel.\n"
     ]
    },
    {
     "data": {
      "text/plain": [
       "Name            joao\n",
       "Gender             F\n",
       "Dob       20/10/1989\n",
       "Grade            100\n",
       "Name: 1, dtype: object"
      ]
     },
     "execution_count": 12,
     "metadata": {},
     "output_type": "execute_result"
    }
   ],
   "source": [
    "df.ix[1]"
   ]
  },
  {
   "cell_type": "code",
   "execution_count": 13,
   "metadata": {},
   "outputs": [
    {
     "name": "stdout",
     "output_type": "stream",
     "text": [
      "<class 'pandas.core.series.Series'>\n",
      "<type 'numpy.ndarray'>\n"
     ]
    }
   ],
   "source": [
    "# Series\n",
    "print (type(df.Name))\n",
    "df.Name.drop_duplicates()\n",
    "# numpy \n",
    "print (type(df.Name.values))"
   ]
  },
  {
   "cell_type": "code",
   "execution_count": 14,
   "metadata": {},
   "outputs": [
    {
     "data": {
      "text/plain": [
       "'joao'"
      ]
     },
     "execution_count": 14,
     "metadata": {},
     "output_type": "execute_result"
    }
   ],
   "source": [
    "# Slicing dataforame:\n",
    "# slicing by column:  \n",
    "df.Name\n",
    "df[\"Name\"]\n",
    "df.loc[:,\"Name\"]\n",
    "df.iloc[:,0] # by location \n",
    "# a row: \n",
    "df.ix[1] \n",
    "df.loc[1, :]\n",
    "df.iloc[0, :] # by location \n",
    "# column + row:\n",
    "df.loc[1, \"Name\"]"
   ]
  },
  {
   "cell_type": "code",
   "execution_count": 15,
   "metadata": {},
   "outputs": [
    {
     "data": {
      "text/html": [
       "<div>\n",
       "<style>\n",
       "    .dataframe thead tr:only-child th {\n",
       "        text-align: right;\n",
       "    }\n",
       "\n",
       "    .dataframe thead th {\n",
       "        text-align: left;\n",
       "    }\n",
       "\n",
       "    .dataframe tbody tr th {\n",
       "        vertical-align: top;\n",
       "    }\n",
       "</style>\n",
       "<table border=\"1\" class=\"dataframe\">\n",
       "  <thead>\n",
       "    <tr style=\"text-align: right;\">\n",
       "      <th></th>\n",
       "      <th>Name</th>\n",
       "      <th>Gender</th>\n",
       "      <th>Dob</th>\n",
       "      <th>Grade</th>\n",
       "    </tr>\n",
       "  </thead>\n",
       "  <tbody>\n",
       "    <tr>\n",
       "      <th>1</th>\n",
       "      <td>joao</td>\n",
       "      <td>F</td>\n",
       "      <td>20/10/1989</td>\n",
       "      <td>100</td>\n",
       "    </tr>\n",
       "    <tr>\n",
       "      <th>4</th>\n",
       "      <td>catarina</td>\n",
       "      <td>F</td>\n",
       "      <td>04/08/1980</td>\n",
       "      <td>84</td>\n",
       "    </tr>\n",
       "    <tr>\n",
       "      <th>5</th>\n",
       "      <td>felipe</td>\n",
       "      <td>F</td>\n",
       "      <td>15/12/1993</td>\n",
       "      <td>95</td>\n",
       "    </tr>\n",
       "  </tbody>\n",
       "</table>\n",
       "</div>"
      ],
      "text/plain": [
       "       Name Gender         Dob  Grade\n",
       "1      joao      F  20/10/1989    100\n",
       "4  catarina      F  04/08/1980     84\n",
       "5    felipe      F  15/12/1993     95"
      ]
     },
     "execution_count": 15,
     "metadata": {},
     "output_type": "execute_result"
    }
   ],
   "source": [
    "# Slicing by condition: \n",
    "df[df.Gender==\"F\"]\n",
    "df[(df.Gender==\"F\") & (df.Grade>80)]\n"
   ]
  },
  {
   "cell_type": "code",
   "execution_count": 16,
   "metadata": {},
   "outputs": [
    {
     "data": {
      "text/html": [
       "<div>\n",
       "<style>\n",
       "    .dataframe thead tr:only-child th {\n",
       "        text-align: right;\n",
       "    }\n",
       "\n",
       "    .dataframe thead th {\n",
       "        text-align: left;\n",
       "    }\n",
       "\n",
       "    .dataframe tbody tr th {\n",
       "        vertical-align: top;\n",
       "    }\n",
       "</style>\n",
       "<table border=\"1\" class=\"dataframe\">\n",
       "  <thead>\n",
       "    <tr style=\"text-align: right;\">\n",
       "      <th></th>\n",
       "      <th>Name</th>\n",
       "      <th>Gender</th>\n",
       "      <th>Dob</th>\n",
       "      <th>Grade</th>\n",
       "      <th>new_col</th>\n",
       "      <th>new_col1</th>\n",
       "      <th>is_female</th>\n",
       "    </tr>\n",
       "  </thead>\n",
       "  <tbody>\n",
       "    <tr>\n",
       "      <th>1</th>\n",
       "      <td>joao</td>\n",
       "      <td>F</td>\n",
       "      <td>20/10/1989</td>\n",
       "      <td>100</td>\n",
       "      <td>0</td>\n",
       "      <td>0</td>\n",
       "      <td>True</td>\n",
       "    </tr>\n",
       "    <tr>\n",
       "      <th>4</th>\n",
       "      <td>catarina</td>\n",
       "      <td>F</td>\n",
       "      <td>04/08/1980</td>\n",
       "      <td>84</td>\n",
       "      <td>3</td>\n",
       "      <td>0</td>\n",
       "      <td>True</td>\n",
       "    </tr>\n",
       "    <tr>\n",
       "      <th>5</th>\n",
       "      <td>felipe</td>\n",
       "      <td>F</td>\n",
       "      <td>15/12/1993</td>\n",
       "      <td>95</td>\n",
       "      <td>4</td>\n",
       "      <td>0</td>\n",
       "      <td>True</td>\n",
       "    </tr>\n",
       "    <tr>\n",
       "      <th>7</th>\n",
       "      <td>yankee</td>\n",
       "      <td>F</td>\n",
       "      <td>04/08/1980</td>\n",
       "      <td>70</td>\n",
       "      <td>6</td>\n",
       "      <td>0</td>\n",
       "      <td>True</td>\n",
       "    </tr>\n",
       "  </tbody>\n",
       "</table>\n",
       "</div>"
      ],
      "text/plain": [
       "       Name Gender         Dob  Grade  new_col  new_col1  is_female\n",
       "1      joao      F  20/10/1989    100        0         0       True\n",
       "4  catarina      F  04/08/1980     84        3         0       True\n",
       "5    felipe      F  15/12/1993     95        4         0       True\n",
       "7    yankee      F  04/08/1980     70        6         0       True"
      ]
     },
     "execution_count": 16,
     "metadata": {},
     "output_type": "execute_result"
    }
   ],
   "source": [
    "# adding a column: \n",
    "df[\"new_col\"] = range(len(df))\n",
    "df[\"new_col1\"] = 0\n",
    "# adding a row\n",
    "df.loc[\"junk\"] = range(df.shape[1])\n",
    "df[\"is_female\"] = df.Gender==\"F\"\n",
    "df[df.is_female]"
   ]
  },
  {
   "cell_type": "code",
   "execution_count": 17,
   "metadata": {},
   "outputs": [
    {
     "data": {
      "text/html": [
       "<div>\n",
       "<style>\n",
       "    .dataframe thead tr:only-child th {\n",
       "        text-align: right;\n",
       "    }\n",
       "\n",
       "    .dataframe thead th {\n",
       "        text-align: left;\n",
       "    }\n",
       "\n",
       "    .dataframe tbody tr th {\n",
       "        vertical-align: top;\n",
       "    }\n",
       "</style>\n",
       "<table border=\"1\" class=\"dataframe\">\n",
       "  <thead>\n",
       "    <tr style=\"text-align: right;\">\n",
       "      <th></th>\n",
       "      <th>Name</th>\n",
       "      <th>Gender</th>\n",
       "      <th>Dob</th>\n",
       "      <th>Grade</th>\n",
       "      <th>new_col</th>\n",
       "      <th>new_col1</th>\n",
       "      <th>is_female</th>\n",
       "    </tr>\n",
       "  </thead>\n",
       "  <tbody>\n",
       "    <tr>\n",
       "      <th>1</th>\n",
       "      <td>joao</td>\n",
       "      <td>F</td>\n",
       "      <td>20/10/1989</td>\n",
       "      <td>100</td>\n",
       "      <td>0</td>\n",
       "      <td>0</td>\n",
       "      <td>True</td>\n",
       "    </tr>\n",
       "    <tr>\n",
       "      <th>2</th>\n",
       "      <td>maria</td>\n",
       "      <td>M</td>\n",
       "      <td>15/12/1993</td>\n",
       "      <td>80</td>\n",
       "      <td>1</td>\n",
       "      <td>0</td>\n",
       "      <td>False</td>\n",
       "    </tr>\n",
       "    <tr>\n",
       "      <th>3</th>\n",
       "      <td>pedro</td>\n",
       "      <td>M</td>\n",
       "      <td>10/13/1991</td>\n",
       "      <td>90</td>\n",
       "      <td>2</td>\n",
       "      <td>0</td>\n",
       "      <td>False</td>\n",
       "    </tr>\n",
       "    <tr>\n",
       "      <th>4</th>\n",
       "      <td>catarina</td>\n",
       "      <td>F</td>\n",
       "      <td>04/08/1980</td>\n",
       "      <td>84</td>\n",
       "      <td>3</td>\n",
       "      <td>0</td>\n",
       "      <td>True</td>\n",
       "    </tr>\n",
       "    <tr>\n",
       "      <th>5</th>\n",
       "      <td>felipe</td>\n",
       "      <td>F</td>\n",
       "      <td>15/12/1993</td>\n",
       "      <td>95</td>\n",
       "      <td>4</td>\n",
       "      <td>0</td>\n",
       "      <td>True</td>\n",
       "    </tr>\n",
       "    <tr>\n",
       "      <th>6</th>\n",
       "      <td>adriana</td>\n",
       "      <td>M</td>\n",
       "      <td>15/12/1993</td>\n",
       "      <td>60</td>\n",
       "      <td>5</td>\n",
       "      <td>0</td>\n",
       "      <td>False</td>\n",
       "    </tr>\n",
       "    <tr>\n",
       "      <th>7</th>\n",
       "      <td>yankee</td>\n",
       "      <td>F</td>\n",
       "      <td>04/08/1980</td>\n",
       "      <td>70</td>\n",
       "      <td>6</td>\n",
       "      <td>0</td>\n",
       "      <td>True</td>\n",
       "    </tr>\n",
       "    <tr>\n",
       "      <th>junk</th>\n",
       "      <td>0</td>\n",
       "      <td>1</td>\n",
       "      <td>2</td>\n",
       "      <td>3</td>\n",
       "      <td>4</td>\n",
       "      <td>5</td>\n",
       "      <td>False</td>\n",
       "    </tr>\n",
       "  </tbody>\n",
       "</table>\n",
       "</div>"
      ],
      "text/plain": [
       "          Name Gender         Dob  Grade  new_col  new_col1  is_female\n",
       "1         joao      F  20/10/1989    100        0         0       True\n",
       "2        maria      M  15/12/1993     80        1         0      False\n",
       "3        pedro      M  10/13/1991     90        2         0      False\n",
       "4     catarina      F  04/08/1980     84        3         0       True\n",
       "5       felipe      F  15/12/1993     95        4         0       True\n",
       "6      adriana      M  15/12/1993     60        5         0      False\n",
       "7       yankee      F  04/08/1980     70        6         0       True\n",
       "junk         0      1           2      3        4         5      False"
      ]
     },
     "execution_count": 17,
     "metadata": {},
     "output_type": "execute_result"
    }
   ],
   "source": [
    "df"
   ]
  },
  {
   "cell_type": "code",
   "execution_count": 18,
   "metadata": {
    "collapsed": true
   },
   "outputs": [],
   "source": [
    "# drop a columm: \n",
    "df = df.drop([\"new_col\", \"new_col1\"], 1)  # not implace..\n",
    "# drop a row: \n",
    "df = df.drop(\"junk\", 0)"
   ]
  },
  {
   "cell_type": "code",
   "execution_count": 19,
   "metadata": {},
   "outputs": [
    {
     "data": {
      "text/html": [
       "<div>\n",
       "<style>\n",
       "    .dataframe thead tr:only-child th {\n",
       "        text-align: right;\n",
       "    }\n",
       "\n",
       "    .dataframe thead th {\n",
       "        text-align: left;\n",
       "    }\n",
       "\n",
       "    .dataframe tbody tr th {\n",
       "        vertical-align: top;\n",
       "    }\n",
       "</style>\n",
       "<table border=\"1\" class=\"dataframe\">\n",
       "  <thead>\n",
       "    <tr style=\"text-align: right;\">\n",
       "      <th></th>\n",
       "      <th>Name</th>\n",
       "      <th>Gender</th>\n",
       "      <th>Dob</th>\n",
       "      <th>Grade</th>\n",
       "      <th>is_female</th>\n",
       "    </tr>\n",
       "  </thead>\n",
       "  <tbody>\n",
       "    <tr>\n",
       "      <th>1</th>\n",
       "      <td>joao</td>\n",
       "      <td>F</td>\n",
       "      <td>20/10/1989</td>\n",
       "      <td>100</td>\n",
       "      <td>True</td>\n",
       "    </tr>\n",
       "    <tr>\n",
       "      <th>2</th>\n",
       "      <td>maria</td>\n",
       "      <td>M</td>\n",
       "      <td>15/12/1993</td>\n",
       "      <td>80</td>\n",
       "      <td>False</td>\n",
       "    </tr>\n",
       "    <tr>\n",
       "      <th>3</th>\n",
       "      <td>pedro</td>\n",
       "      <td>M</td>\n",
       "      <td>10/13/1991</td>\n",
       "      <td>90</td>\n",
       "      <td>False</td>\n",
       "    </tr>\n",
       "    <tr>\n",
       "      <th>4</th>\n",
       "      <td>catarina</td>\n",
       "      <td>F</td>\n",
       "      <td>04/08/1980</td>\n",
       "      <td>84</td>\n",
       "      <td>True</td>\n",
       "    </tr>\n",
       "    <tr>\n",
       "      <th>5</th>\n",
       "      <td>felipe</td>\n",
       "      <td>F</td>\n",
       "      <td>15/12/1993</td>\n",
       "      <td>95</td>\n",
       "      <td>True</td>\n",
       "    </tr>\n",
       "    <tr>\n",
       "      <th>6</th>\n",
       "      <td>adriana</td>\n",
       "      <td>M</td>\n",
       "      <td>15/12/1993</td>\n",
       "      <td>60</td>\n",
       "      <td>False</td>\n",
       "    </tr>\n",
       "    <tr>\n",
       "      <th>7</th>\n",
       "      <td>yankee</td>\n",
       "      <td>F</td>\n",
       "      <td>04/08/1980</td>\n",
       "      <td>70</td>\n",
       "      <td>True</td>\n",
       "    </tr>\n",
       "  </tbody>\n",
       "</table>\n",
       "</div>"
      ],
      "text/plain": [
       "       Name Gender         Dob  Grade  is_female\n",
       "1      joao      F  20/10/1989    100       True\n",
       "2     maria      M  15/12/1993     80      False\n",
       "3     pedro      M  10/13/1991     90      False\n",
       "4  catarina      F  04/08/1980     84       True\n",
       "5    felipe      F  15/12/1993     95       True\n",
       "6   adriana      M  15/12/1993     60      False\n",
       "7    yankee      F  04/08/1980     70       True"
      ]
     },
     "execution_count": 19,
     "metadata": {},
     "output_type": "execute_result"
    }
   ],
   "source": [
    "df"
   ]
  },
  {
   "cell_type": "code",
   "execution_count": 20,
   "metadata": {},
   "outputs": [
    {
     "data": {
      "text/html": [
       "<div>\n",
       "<style>\n",
       "    .dataframe thead tr:only-child th {\n",
       "        text-align: right;\n",
       "    }\n",
       "\n",
       "    .dataframe thead th {\n",
       "        text-align: left;\n",
       "    }\n",
       "\n",
       "    .dataframe tbody tr th {\n",
       "        vertical-align: top;\n",
       "    }\n",
       "</style>\n",
       "<table border=\"1\" class=\"dataframe\">\n",
       "  <thead>\n",
       "    <tr style=\"text-align: right;\">\n",
       "      <th></th>\n",
       "      <th>Name</th>\n",
       "      <th>Gender</th>\n",
       "      <th>Dob</th>\n",
       "      <th>Grade</th>\n",
       "      <th>is_female</th>\n",
       "    </tr>\n",
       "  </thead>\n",
       "  <tbody>\n",
       "    <tr>\n",
       "      <th>1</th>\n",
       "      <td>joao</td>\n",
       "      <td>F</td>\n",
       "      <td>20/10/1989</td>\n",
       "      <td>100</td>\n",
       "      <td>True</td>\n",
       "    </tr>\n",
       "    <tr>\n",
       "      <th>5</th>\n",
       "      <td>felipe</td>\n",
       "      <td>F</td>\n",
       "      <td>15/12/1993</td>\n",
       "      <td>95</td>\n",
       "      <td>True</td>\n",
       "    </tr>\n",
       "    <tr>\n",
       "      <th>3</th>\n",
       "      <td>pedro</td>\n",
       "      <td>M</td>\n",
       "      <td>10/13/1991</td>\n",
       "      <td>90</td>\n",
       "      <td>False</td>\n",
       "    </tr>\n",
       "    <tr>\n",
       "      <th>4</th>\n",
       "      <td>catarina</td>\n",
       "      <td>F</td>\n",
       "      <td>04/08/1980</td>\n",
       "      <td>84</td>\n",
       "      <td>True</td>\n",
       "    </tr>\n",
       "    <tr>\n",
       "      <th>2</th>\n",
       "      <td>maria</td>\n",
       "      <td>M</td>\n",
       "      <td>15/12/1993</td>\n",
       "      <td>80</td>\n",
       "      <td>False</td>\n",
       "    </tr>\n",
       "    <tr>\n",
       "      <th>7</th>\n",
       "      <td>yankee</td>\n",
       "      <td>F</td>\n",
       "      <td>04/08/1980</td>\n",
       "      <td>70</td>\n",
       "      <td>True</td>\n",
       "    </tr>\n",
       "    <tr>\n",
       "      <th>6</th>\n",
       "      <td>adriana</td>\n",
       "      <td>M</td>\n",
       "      <td>15/12/1993</td>\n",
       "      <td>60</td>\n",
       "      <td>False</td>\n",
       "    </tr>\n",
       "  </tbody>\n",
       "</table>\n",
       "</div>"
      ],
      "text/plain": [
       "       Name Gender         Dob  Grade  is_female\n",
       "1      joao      F  20/10/1989    100       True\n",
       "5    felipe      F  15/12/1993     95       True\n",
       "3     pedro      M  10/13/1991     90      False\n",
       "4  catarina      F  04/08/1980     84       True\n",
       "2     maria      M  15/12/1993     80      False\n",
       "7    yankee      F  04/08/1980     70       True\n",
       "6   adriana      M  15/12/1993     60      False"
      ]
     },
     "execution_count": 20,
     "metadata": {},
     "output_type": "execute_result"
    }
   ],
   "source": [
    "# sort values\n",
    "df.sort_values(['Grade'], ascending=False)"
   ]
  },
  {
   "cell_type": "code",
   "execution_count": 21,
   "metadata": {},
   "outputs": [
    {
     "data": {
      "text/html": [
       "<div>\n",
       "<style>\n",
       "    .dataframe thead tr:only-child th {\n",
       "        text-align: right;\n",
       "    }\n",
       "\n",
       "    .dataframe thead th {\n",
       "        text-align: left;\n",
       "    }\n",
       "\n",
       "    .dataframe tbody tr th {\n",
       "        vertical-align: top;\n",
       "    }\n",
       "</style>\n",
       "<table border=\"1\" class=\"dataframe\">\n",
       "  <thead>\n",
       "    <tr style=\"text-align: right;\">\n",
       "      <th></th>\n",
       "      <th>Name</th>\n",
       "      <th>Gender</th>\n",
       "      <th>Dob</th>\n",
       "      <th>Grade</th>\n",
       "      <th>is_female</th>\n",
       "      <th>grade_*2</th>\n",
       "      <th>name_gender</th>\n",
       "    </tr>\n",
       "  </thead>\n",
       "  <tbody>\n",
       "    <tr>\n",
       "      <th>1</th>\n",
       "      <td>joao</td>\n",
       "      <td>F</td>\n",
       "      <td>20/10/1989</td>\n",
       "      <td>100</td>\n",
       "      <td>True</td>\n",
       "      <td>200.0</td>\n",
       "      <td>joao_F</td>\n",
       "    </tr>\n",
       "    <tr>\n",
       "      <th>2</th>\n",
       "      <td>maria</td>\n",
       "      <td>M</td>\n",
       "      <td>15/12/1993</td>\n",
       "      <td>80</td>\n",
       "      <td>False</td>\n",
       "      <td>160.0</td>\n",
       "      <td>maria_M</td>\n",
       "    </tr>\n",
       "    <tr>\n",
       "      <th>3</th>\n",
       "      <td>pedro</td>\n",
       "      <td>M</td>\n",
       "      <td>10/13/1991</td>\n",
       "      <td>90</td>\n",
       "      <td>False</td>\n",
       "      <td>180.0</td>\n",
       "      <td>pedro_M</td>\n",
       "    </tr>\n",
       "    <tr>\n",
       "      <th>4</th>\n",
       "      <td>catarina</td>\n",
       "      <td>F</td>\n",
       "      <td>04/08/1980</td>\n",
       "      <td>84</td>\n",
       "      <td>True</td>\n",
       "      <td>168.0</td>\n",
       "      <td>catarina_F</td>\n",
       "    </tr>\n",
       "    <tr>\n",
       "      <th>5</th>\n",
       "      <td>felipe</td>\n",
       "      <td>F</td>\n",
       "      <td>15/12/1993</td>\n",
       "      <td>95</td>\n",
       "      <td>True</td>\n",
       "      <td>190.0</td>\n",
       "      <td>felipe_F</td>\n",
       "    </tr>\n",
       "    <tr>\n",
       "      <th>6</th>\n",
       "      <td>adriana</td>\n",
       "      <td>M</td>\n",
       "      <td>15/12/1993</td>\n",
       "      <td>60</td>\n",
       "      <td>False</td>\n",
       "      <td>120.0</td>\n",
       "      <td>adriana_M</td>\n",
       "    </tr>\n",
       "    <tr>\n",
       "      <th>7</th>\n",
       "      <td>yankee</td>\n",
       "      <td>F</td>\n",
       "      <td>04/08/1980</td>\n",
       "      <td>70</td>\n",
       "      <td>True</td>\n",
       "      <td>140.0</td>\n",
       "      <td>yankee_F</td>\n",
       "    </tr>\n",
       "  </tbody>\n",
       "</table>\n",
       "</div>"
      ],
      "text/plain": [
       "       Name Gender         Dob  Grade  is_female  grade_*2 name_gender\n",
       "1      joao      F  20/10/1989    100       True     200.0      joao_F\n",
       "2     maria      M  15/12/1993     80      False     160.0     maria_M\n",
       "3     pedro      M  10/13/1991     90      False     180.0     pedro_M\n",
       "4  catarina      F  04/08/1980     84       True     168.0  catarina_F\n",
       "5    felipe      F  15/12/1993     95       True     190.0    felipe_F\n",
       "6   adriana      M  15/12/1993     60      False     120.0   adriana_M\n",
       "7    yankee      F  04/08/1980     70       True     140.0    yankee_F"
      ]
     },
     "execution_count": 21,
     "metadata": {},
     "output_type": "execute_result"
    }
   ],
   "source": [
    "# basic function on columns\n",
    "df.shape\n",
    "df.describe()\n",
    "df.sum(1), df.sum(0)\n",
    "#mean, count, std..\n",
    "\n",
    "# apply - applying function on each item in the column. : \n",
    "df[\"grade_*2\"] = df.Grade.apply(lambda x: x*2.)\n",
    "df[\"name_gender\"] = df.Name + \"_\" + df.Gender\n",
    "df"
   ]
  },
  {
   "cell_type": "code",
   "execution_count": 22,
   "metadata": {},
   "outputs": [
    {
     "name": "stdout",
     "output_type": "stream",
     "text": [
      "hi\n"
     ]
    }
   ],
   "source": [
    "print (\"hi\")"
   ]
  },
  {
   "cell_type": "code",
   "execution_count": 23,
   "metadata": {
    "collapsed": true
   },
   "outputs": [],
   "source": [
    "# other function: remove duplicates, fill NA, delete columns\n",
    "df.drop_duplicates()\n",
    "df[\"ccc\"] = None\n",
    "df = df.fillna(-9)\n",
    "df = df.drop(\"ccc\", 1)"
   ]
  },
  {
   "cell_type": "code",
   "execution_count": 24,
   "metadata": {
    "collapsed": true
   },
   "outputs": [],
   "source": [
    "# Data types - \n",
    "grades = [['joao', 'F', \"Computer\"], \n",
    "['maria', 'M', \"Laws\"],\n",
    "['pedro', 'M', \"Computer\"],\n",
    "['catarina', 'F', \"Physics\"]]\n",
    "df2 = pd.DataFrame(grades, columns=[\"Name\", \"Gender\", \"Gegree\"])"
   ]
  },
  {
   "cell_type": "code",
   "execution_count": 25,
   "metadata": {},
   "outputs": [
    {
     "data": {
      "text/html": [
       "<div>\n",
       "<style>\n",
       "    .dataframe thead tr:only-child th {\n",
       "        text-align: right;\n",
       "    }\n",
       "\n",
       "    .dataframe thead th {\n",
       "        text-align: left;\n",
       "    }\n",
       "\n",
       "    .dataframe tbody tr th {\n",
       "        vertical-align: top;\n",
       "    }\n",
       "</style>\n",
       "<table border=\"1\" class=\"dataframe\">\n",
       "  <thead>\n",
       "    <tr style=\"text-align: right;\">\n",
       "      <th></th>\n",
       "      <th>Name</th>\n",
       "      <th>Gender</th>\n",
       "      <th>Gegree</th>\n",
       "    </tr>\n",
       "  </thead>\n",
       "  <tbody>\n",
       "    <tr>\n",
       "      <th>0</th>\n",
       "      <td>joao</td>\n",
       "      <td>F</td>\n",
       "      <td>Computer</td>\n",
       "    </tr>\n",
       "    <tr>\n",
       "      <th>1</th>\n",
       "      <td>maria</td>\n",
       "      <td>M</td>\n",
       "      <td>Laws</td>\n",
       "    </tr>\n",
       "  </tbody>\n",
       "</table>\n",
       "</div>"
      ],
      "text/plain": [
       "    Name Gender    Gegree\n",
       "0   joao      F  Computer\n",
       "1  maria      M      Laws"
      ]
     },
     "execution_count": 25,
     "metadata": {},
     "output_type": "execute_result"
    }
   ],
   "source": [
    "df2.head(2)"
   ]
  },
  {
   "cell_type": "code",
   "execution_count": 26,
   "metadata": {},
   "outputs": [
    {
     "data": {
      "text/html": [
       "<div>\n",
       "<style>\n",
       "    .dataframe thead tr:only-child th {\n",
       "        text-align: right;\n",
       "    }\n",
       "\n",
       "    .dataframe thead th {\n",
       "        text-align: left;\n",
       "    }\n",
       "\n",
       "    .dataframe tbody tr th {\n",
       "        vertical-align: top;\n",
       "    }\n",
       "</style>\n",
       "<table border=\"1\" class=\"dataframe\">\n",
       "  <thead>\n",
       "    <tr style=\"text-align: right;\">\n",
       "      <th></th>\n",
       "      <th>Name</th>\n",
       "      <th>Gender</th>\n",
       "      <th>Dob</th>\n",
       "      <th>Grade</th>\n",
       "      <th>is_female</th>\n",
       "      <th>grade_*2</th>\n",
       "      <th>name_gender</th>\n",
       "    </tr>\n",
       "  </thead>\n",
       "  <tbody>\n",
       "    <tr>\n",
       "      <th>1</th>\n",
       "      <td>joao</td>\n",
       "      <td>F</td>\n",
       "      <td>20/10/1989</td>\n",
       "      <td>100</td>\n",
       "      <td>True</td>\n",
       "      <td>200.0</td>\n",
       "      <td>joao_F</td>\n",
       "    </tr>\n",
       "    <tr>\n",
       "      <th>2</th>\n",
       "      <td>maria</td>\n",
       "      <td>M</td>\n",
       "      <td>15/12/1993</td>\n",
       "      <td>80</td>\n",
       "      <td>False</td>\n",
       "      <td>160.0</td>\n",
       "      <td>maria_M</td>\n",
       "    </tr>\n",
       "    <tr>\n",
       "      <th>3</th>\n",
       "      <td>pedro</td>\n",
       "      <td>M</td>\n",
       "      <td>10/13/1991</td>\n",
       "      <td>90</td>\n",
       "      <td>False</td>\n",
       "      <td>180.0</td>\n",
       "      <td>pedro_M</td>\n",
       "    </tr>\n",
       "    <tr>\n",
       "      <th>4</th>\n",
       "      <td>catarina</td>\n",
       "      <td>F</td>\n",
       "      <td>04/08/1980</td>\n",
       "      <td>84</td>\n",
       "      <td>True</td>\n",
       "      <td>168.0</td>\n",
       "      <td>catarina_F</td>\n",
       "    </tr>\n",
       "    <tr>\n",
       "      <th>5</th>\n",
       "      <td>felipe</td>\n",
       "      <td>F</td>\n",
       "      <td>15/12/1993</td>\n",
       "      <td>95</td>\n",
       "      <td>True</td>\n",
       "      <td>190.0</td>\n",
       "      <td>felipe_F</td>\n",
       "    </tr>\n",
       "    <tr>\n",
       "      <th>6</th>\n",
       "      <td>adriana</td>\n",
       "      <td>M</td>\n",
       "      <td>15/12/1993</td>\n",
       "      <td>60</td>\n",
       "      <td>False</td>\n",
       "      <td>120.0</td>\n",
       "      <td>adriana_M</td>\n",
       "    </tr>\n",
       "    <tr>\n",
       "      <th>7</th>\n",
       "      <td>yankee</td>\n",
       "      <td>F</td>\n",
       "      <td>04/08/1980</td>\n",
       "      <td>70</td>\n",
       "      <td>True</td>\n",
       "      <td>140.0</td>\n",
       "      <td>yankee_F</td>\n",
       "    </tr>\n",
       "  </tbody>\n",
       "</table>\n",
       "</div>"
      ],
      "text/plain": [
       "       Name Gender         Dob  Grade  is_female  grade_*2 name_gender\n",
       "1      joao      F  20/10/1989    100       True     200.0      joao_F\n",
       "2     maria      M  15/12/1993     80      False     160.0     maria_M\n",
       "3     pedro      M  10/13/1991     90      False     180.0     pedro_M\n",
       "4  catarina      F  04/08/1980     84       True     168.0  catarina_F\n",
       "5    felipe      F  15/12/1993     95       True     190.0    felipe_F\n",
       "6   adriana      M  15/12/1993     60      False     120.0   adriana_M\n",
       "7    yankee      F  04/08/1980     70       True     140.0    yankee_F"
      ]
     },
     "execution_count": 26,
     "metadata": {},
     "output_type": "execute_result"
    }
   ],
   "source": [
    "df"
   ]
  },
  {
   "cell_type": "code",
   "execution_count": 27,
   "metadata": {},
   "outputs": [
    {
     "data": {
      "text/html": [
       "<div>\n",
       "<style>\n",
       "    .dataframe thead tr:only-child th {\n",
       "        text-align: right;\n",
       "    }\n",
       "\n",
       "    .dataframe thead th {\n",
       "        text-align: left;\n",
       "    }\n",
       "\n",
       "    .dataframe tbody tr th {\n",
       "        vertical-align: top;\n",
       "    }\n",
       "</style>\n",
       "<table border=\"1\" class=\"dataframe\">\n",
       "  <thead>\n",
       "    <tr style=\"text-align: right;\">\n",
       "      <th></th>\n",
       "      <th>Name</th>\n",
       "      <th>Gender</th>\n",
       "      <th>Dob</th>\n",
       "      <th>Grade</th>\n",
       "      <th>is_female</th>\n",
       "      <th>grade_*2</th>\n",
       "      <th>name_gender</th>\n",
       "      <th>Gegree</th>\n",
       "    </tr>\n",
       "  </thead>\n",
       "  <tbody>\n",
       "    <tr>\n",
       "      <th>0</th>\n",
       "      <td>joao</td>\n",
       "      <td>F</td>\n",
       "      <td>20/10/1989</td>\n",
       "      <td>100</td>\n",
       "      <td>True</td>\n",
       "      <td>200.0</td>\n",
       "      <td>joao_F</td>\n",
       "      <td>Computer</td>\n",
       "    </tr>\n",
       "    <tr>\n",
       "      <th>1</th>\n",
       "      <td>maria</td>\n",
       "      <td>M</td>\n",
       "      <td>15/12/1993</td>\n",
       "      <td>80</td>\n",
       "      <td>False</td>\n",
       "      <td>160.0</td>\n",
       "      <td>maria_M</td>\n",
       "      <td>Laws</td>\n",
       "    </tr>\n",
       "    <tr>\n",
       "      <th>2</th>\n",
       "      <td>pedro</td>\n",
       "      <td>M</td>\n",
       "      <td>10/13/1991</td>\n",
       "      <td>90</td>\n",
       "      <td>False</td>\n",
       "      <td>180.0</td>\n",
       "      <td>pedro_M</td>\n",
       "      <td>Computer</td>\n",
       "    </tr>\n",
       "    <tr>\n",
       "      <th>3</th>\n",
       "      <td>catarina</td>\n",
       "      <td>F</td>\n",
       "      <td>04/08/1980</td>\n",
       "      <td>84</td>\n",
       "      <td>True</td>\n",
       "      <td>168.0</td>\n",
       "      <td>catarina_F</td>\n",
       "      <td>Physics</td>\n",
       "    </tr>\n",
       "  </tbody>\n",
       "</table>\n",
       "</div>"
      ],
      "text/plain": [
       "       Name Gender         Dob  Grade  is_female  grade_*2 name_gender  \\\n",
       "0      joao      F  20/10/1989    100       True     200.0      joao_F   \n",
       "1     maria      M  15/12/1993     80      False     160.0     maria_M   \n",
       "2     pedro      M  10/13/1991     90      False     180.0     pedro_M   \n",
       "3  catarina      F  04/08/1980     84       True     168.0  catarina_F   \n",
       "\n",
       "     Gegree  \n",
       "0  Computer  \n",
       "1      Laws  \n",
       "2  Computer  \n",
       "3   Physics  "
      ]
     },
     "execution_count": 27,
     "metadata": {},
     "output_type": "execute_result"
    }
   ],
   "source": [
    "# merge\n",
    "pd.merge(df, df2, on=[\"Name\", \"Gender\"], how=\"left\")\n",
    "pd.merge(df, df2, on=[\"Name\", \"Gender\"], how=\"inner\")"
   ]
  },
  {
   "cell_type": "code",
   "execution_count": 28,
   "metadata": {},
   "outputs": [
    {
     "data": {
      "text/html": [
       "<div>\n",
       "<style>\n",
       "    .dataframe thead tr:only-child th {\n",
       "        text-align: right;\n",
       "    }\n",
       "\n",
       "    .dataframe thead th {\n",
       "        text-align: left;\n",
       "    }\n",
       "\n",
       "    .dataframe tbody tr th {\n",
       "        vertical-align: top;\n",
       "    }\n",
       "</style>\n",
       "<table border=\"1\" class=\"dataframe\">\n",
       "  <thead>\n",
       "    <tr style=\"text-align: right;\">\n",
       "      <th></th>\n",
       "      <th>Dob</th>\n",
       "      <th>Gegree</th>\n",
       "      <th>Gender</th>\n",
       "      <th>Grade</th>\n",
       "      <th>Name</th>\n",
       "      <th>grade_*2</th>\n",
       "      <th>is_female</th>\n",
       "      <th>name_gender</th>\n",
       "    </tr>\n",
       "  </thead>\n",
       "  <tbody>\n",
       "    <tr>\n",
       "      <th>0</th>\n",
       "      <td>NaN</td>\n",
       "      <td>Computer</td>\n",
       "      <td>F</td>\n",
       "      <td>NaN</td>\n",
       "      <td>joao</td>\n",
       "      <td>NaN</td>\n",
       "      <td>NaN</td>\n",
       "      <td>NaN</td>\n",
       "    </tr>\n",
       "    <tr>\n",
       "      <th>1</th>\n",
       "      <td>NaN</td>\n",
       "      <td>Laws</td>\n",
       "      <td>M</td>\n",
       "      <td>NaN</td>\n",
       "      <td>maria</td>\n",
       "      <td>NaN</td>\n",
       "      <td>NaN</td>\n",
       "      <td>NaN</td>\n",
       "    </tr>\n",
       "    <tr>\n",
       "      <th>2</th>\n",
       "      <td>NaN</td>\n",
       "      <td>Computer</td>\n",
       "      <td>M</td>\n",
       "      <td>NaN</td>\n",
       "      <td>pedro</td>\n",
       "      <td>NaN</td>\n",
       "      <td>NaN</td>\n",
       "      <td>NaN</td>\n",
       "    </tr>\n",
       "    <tr>\n",
       "      <th>3</th>\n",
       "      <td>NaN</td>\n",
       "      <td>Physics</td>\n",
       "      <td>F</td>\n",
       "      <td>NaN</td>\n",
       "      <td>catarina</td>\n",
       "      <td>NaN</td>\n",
       "      <td>NaN</td>\n",
       "      <td>NaN</td>\n",
       "    </tr>\n",
       "    <tr>\n",
       "      <th>1</th>\n",
       "      <td>20/10/1989</td>\n",
       "      <td>NaN</td>\n",
       "      <td>F</td>\n",
       "      <td>100.0</td>\n",
       "      <td>joao</td>\n",
       "      <td>200.0</td>\n",
       "      <td>True</td>\n",
       "      <td>joao_F</td>\n",
       "    </tr>\n",
       "    <tr>\n",
       "      <th>2</th>\n",
       "      <td>15/12/1993</td>\n",
       "      <td>NaN</td>\n",
       "      <td>M</td>\n",
       "      <td>80.0</td>\n",
       "      <td>maria</td>\n",
       "      <td>160.0</td>\n",
       "      <td>False</td>\n",
       "      <td>maria_M</td>\n",
       "    </tr>\n",
       "    <tr>\n",
       "      <th>3</th>\n",
       "      <td>10/13/1991</td>\n",
       "      <td>NaN</td>\n",
       "      <td>M</td>\n",
       "      <td>90.0</td>\n",
       "      <td>pedro</td>\n",
       "      <td>180.0</td>\n",
       "      <td>False</td>\n",
       "      <td>pedro_M</td>\n",
       "    </tr>\n",
       "    <tr>\n",
       "      <th>4</th>\n",
       "      <td>04/08/1980</td>\n",
       "      <td>NaN</td>\n",
       "      <td>F</td>\n",
       "      <td>84.0</td>\n",
       "      <td>catarina</td>\n",
       "      <td>168.0</td>\n",
       "      <td>True</td>\n",
       "      <td>catarina_F</td>\n",
       "    </tr>\n",
       "    <tr>\n",
       "      <th>5</th>\n",
       "      <td>15/12/1993</td>\n",
       "      <td>NaN</td>\n",
       "      <td>F</td>\n",
       "      <td>95.0</td>\n",
       "      <td>felipe</td>\n",
       "      <td>190.0</td>\n",
       "      <td>True</td>\n",
       "      <td>felipe_F</td>\n",
       "    </tr>\n",
       "    <tr>\n",
       "      <th>6</th>\n",
       "      <td>15/12/1993</td>\n",
       "      <td>NaN</td>\n",
       "      <td>M</td>\n",
       "      <td>60.0</td>\n",
       "      <td>adriana</td>\n",
       "      <td>120.0</td>\n",
       "      <td>False</td>\n",
       "      <td>adriana_M</td>\n",
       "    </tr>\n",
       "    <tr>\n",
       "      <th>7</th>\n",
       "      <td>04/08/1980</td>\n",
       "      <td>NaN</td>\n",
       "      <td>F</td>\n",
       "      <td>70.0</td>\n",
       "      <td>yankee</td>\n",
       "      <td>140.0</td>\n",
       "      <td>True</td>\n",
       "      <td>yankee_F</td>\n",
       "    </tr>\n",
       "  </tbody>\n",
       "</table>\n",
       "</div>"
      ],
      "text/plain": [
       "          Dob    Gegree Gender  Grade      Name  grade_*2 is_female  \\\n",
       "0         NaN  Computer      F    NaN      joao       NaN       NaN   \n",
       "1         NaN      Laws      M    NaN     maria       NaN       NaN   \n",
       "2         NaN  Computer      M    NaN     pedro       NaN       NaN   \n",
       "3         NaN   Physics      F    NaN  catarina       NaN       NaN   \n",
       "1  20/10/1989       NaN      F  100.0      joao     200.0      True   \n",
       "2  15/12/1993       NaN      M   80.0     maria     160.0     False   \n",
       "3  10/13/1991       NaN      M   90.0     pedro     180.0     False   \n",
       "4  04/08/1980       NaN      F   84.0  catarina     168.0      True   \n",
       "5  15/12/1993       NaN      F   95.0    felipe     190.0      True   \n",
       "6  15/12/1993       NaN      M   60.0   adriana     120.0     False   \n",
       "7  04/08/1980       NaN      F   70.0    yankee     140.0      True   \n",
       "\n",
       "  name_gender  \n",
       "0         NaN  \n",
       "1         NaN  \n",
       "2         NaN  \n",
       "3         NaN  \n",
       "1      joao_F  \n",
       "2     maria_M  \n",
       "3     pedro_M  \n",
       "4  catarina_F  \n",
       "5    felipe_F  \n",
       "6   adriana_M  \n",
       "7    yankee_F  "
      ]
     },
     "execution_count": 28,
     "metadata": {},
     "output_type": "execute_result"
    }
   ],
   "source": [
    "# append\n",
    "df2.append(df)\n",
    "# concatenate..(see documentation.. )"
   ]
  },
  {
   "cell_type": "code",
   "execution_count": null,
   "metadata": {
    "collapsed": true
   },
   "outputs": [],
   "source": []
  },
  {
   "cell_type": "code",
   "execution_count": 29,
   "metadata": {},
   "outputs": [
    {
     "data": {
      "text/plain": [
       "Gender\n",
       "F    87.250000\n",
       "M    76.666667\n",
       "Name: Grade, dtype: float64"
      ]
     },
     "execution_count": 29,
     "metadata": {},
     "output_type": "execute_result"
    }
   ],
   "source": [
    "# groupby\n",
    "df.groupby([\"Gender\"]).mean()[\"Grade\"]"
   ]
  },
  {
   "cell_type": "code",
   "execution_count": 30,
   "metadata": {
    "collapsed": true
   },
   "outputs": [],
   "source": [
    "# be aware of python - \n",
    "def my_func(df):\n",
    "    df[\"hello\"] = 1\n",
    "    return \"hi\""
   ]
  },
  {
   "cell_type": "code",
   "execution_count": 31,
   "metadata": {},
   "outputs": [
    {
     "data": {
      "text/plain": [
       "'hi'"
      ]
     },
     "execution_count": 31,
     "metadata": {},
     "output_type": "execute_result"
    }
   ],
   "source": [
    "my_func(df)"
   ]
  },
  {
   "cell_type": "code",
   "execution_count": 32,
   "metadata": {},
   "outputs": [
    {
     "data": {
      "text/html": [
       "<div>\n",
       "<style>\n",
       "    .dataframe thead tr:only-child th {\n",
       "        text-align: right;\n",
       "    }\n",
       "\n",
       "    .dataframe thead th {\n",
       "        text-align: left;\n",
       "    }\n",
       "\n",
       "    .dataframe tbody tr th {\n",
       "        vertical-align: top;\n",
       "    }\n",
       "</style>\n",
       "<table border=\"1\" class=\"dataframe\">\n",
       "  <thead>\n",
       "    <tr style=\"text-align: right;\">\n",
       "      <th></th>\n",
       "      <th>Name</th>\n",
       "      <th>Gender</th>\n",
       "      <th>Dob</th>\n",
       "      <th>Grade</th>\n",
       "      <th>is_female</th>\n",
       "      <th>grade_*2</th>\n",
       "      <th>name_gender</th>\n",
       "      <th>hello</th>\n",
       "    </tr>\n",
       "  </thead>\n",
       "  <tbody>\n",
       "    <tr>\n",
       "      <th>1</th>\n",
       "      <td>joao</td>\n",
       "      <td>F</td>\n",
       "      <td>20/10/1989</td>\n",
       "      <td>100</td>\n",
       "      <td>True</td>\n",
       "      <td>200.0</td>\n",
       "      <td>joao_F</td>\n",
       "      <td>1</td>\n",
       "    </tr>\n",
       "    <tr>\n",
       "      <th>2</th>\n",
       "      <td>maria</td>\n",
       "      <td>M</td>\n",
       "      <td>15/12/1993</td>\n",
       "      <td>80</td>\n",
       "      <td>False</td>\n",
       "      <td>160.0</td>\n",
       "      <td>maria_M</td>\n",
       "      <td>1</td>\n",
       "    </tr>\n",
       "    <tr>\n",
       "      <th>3</th>\n",
       "      <td>pedro</td>\n",
       "      <td>M</td>\n",
       "      <td>10/13/1991</td>\n",
       "      <td>90</td>\n",
       "      <td>False</td>\n",
       "      <td>180.0</td>\n",
       "      <td>pedro_M</td>\n",
       "      <td>1</td>\n",
       "    </tr>\n",
       "    <tr>\n",
       "      <th>4</th>\n",
       "      <td>catarina</td>\n",
       "      <td>F</td>\n",
       "      <td>04/08/1980</td>\n",
       "      <td>84</td>\n",
       "      <td>True</td>\n",
       "      <td>168.0</td>\n",
       "      <td>catarina_F</td>\n",
       "      <td>1</td>\n",
       "    </tr>\n",
       "    <tr>\n",
       "      <th>5</th>\n",
       "      <td>felipe</td>\n",
       "      <td>F</td>\n",
       "      <td>15/12/1993</td>\n",
       "      <td>95</td>\n",
       "      <td>True</td>\n",
       "      <td>190.0</td>\n",
       "      <td>felipe_F</td>\n",
       "      <td>1</td>\n",
       "    </tr>\n",
       "    <tr>\n",
       "      <th>6</th>\n",
       "      <td>adriana</td>\n",
       "      <td>M</td>\n",
       "      <td>15/12/1993</td>\n",
       "      <td>60</td>\n",
       "      <td>False</td>\n",
       "      <td>120.0</td>\n",
       "      <td>adriana_M</td>\n",
       "      <td>1</td>\n",
       "    </tr>\n",
       "    <tr>\n",
       "      <th>7</th>\n",
       "      <td>yankee</td>\n",
       "      <td>F</td>\n",
       "      <td>04/08/1980</td>\n",
       "      <td>70</td>\n",
       "      <td>True</td>\n",
       "      <td>140.0</td>\n",
       "      <td>yankee_F</td>\n",
       "      <td>1</td>\n",
       "    </tr>\n",
       "  </tbody>\n",
       "</table>\n",
       "</div>"
      ],
      "text/plain": [
       "       Name Gender         Dob  Grade  is_female  grade_*2 name_gender  hello\n",
       "1      joao      F  20/10/1989    100       True     200.0      joao_F      1\n",
       "2     maria      M  15/12/1993     80      False     160.0     maria_M      1\n",
       "3     pedro      M  10/13/1991     90      False     180.0     pedro_M      1\n",
       "4  catarina      F  04/08/1980     84       True     168.0  catarina_F      1\n",
       "5    felipe      F  15/12/1993     95       True     190.0    felipe_F      1\n",
       "6   adriana      M  15/12/1993     60      False     120.0   adriana_M      1\n",
       "7    yankee      F  04/08/1980     70       True     140.0    yankee_F      1"
      ]
     },
     "execution_count": 32,
     "metadata": {},
     "output_type": "execute_result"
    }
   ],
   "source": [
    "df"
   ]
  },
  {
   "cell_type": "markdown",
   "metadata": {},
   "source": [
    "# DATA SET - BOSTON"
   ]
  },
  {
   "cell_type": "code",
   "execution_count": 33,
   "metadata": {
    "collapsed": true
   },
   "outputs": [],
   "source": [
    "# Load data set: \n",
    "boston = datasets.load_boston()\n",
    "y = boston['target']\n",
    "x = pd.DataFrame(boston['data'])\n",
    "x.columns = boston['feature_names']"
   ]
  },
  {
   "cell_type": "code",
   "execution_count": 34,
   "metadata": {},
   "outputs": [
    {
     "name": "stdout",
     "output_type": "stream",
     "text": [
      "Boston House Prices dataset\n",
      "===========================\n",
      "\n",
      "Notes\n",
      "------\n",
      "Data Set Characteristics:  \n",
      "\n",
      "    :Number of Instances: 506 \n",
      "\n",
      "    :Number of Attributes: 13 numeric/categorical predictive\n",
      "    \n",
      "    :Median Value (attribute 14) is usually the target\n",
      "\n",
      "    :Attribute Information (in order):\n",
      "        - CRIM     per capita crime rate by town\n",
      "        - ZN       proportion of residential land zoned for lots over 25,000 sq.ft.\n",
      "        - INDUS    proportion of non-retail business acres per town\n",
      "        - CHAS     Charles River dummy variable (= 1 if tract bounds river; 0 otherwise)\n",
      "        - NOX      nitric oxides concentration (parts per 10 million)\n",
      "        - RM       average number of rooms per dwelling\n",
      "        - AGE      proportion of owner-occupied units built prior to 1940\n",
      "        - DIS      weighted distances to five Boston employment centres\n",
      "        - RAD      index of accessibility to radial highways\n",
      "        - TAX      full-value property-tax rate per $10,000\n",
      "        - PTRATIO  pupil-teacher ratio by town\n",
      "        - B        1000(Bk - 0.63)^2 where Bk is the proportion of blacks by town\n",
      "        - LSTAT    % lower status of the population\n",
      "        - MEDV     Median value of owner-occupied homes in $1000's\n",
      "\n",
      "    :Missing Attribute Values: None\n",
      "\n",
      "    :Creator: Harrison, D. and Rubinfeld, D.L.\n",
      "\n",
      "This is a copy of UCI ML housing dataset.\n",
      "http://archive.ics.uci.edu/ml/datasets/Housing\n",
      "\n",
      "\n",
      "This dataset was taken from the StatLib library which is maintained at Carnegie Mellon University.\n",
      "\n",
      "The Boston house-price data of Harrison, D. and Rubinfeld, D.L. 'Hedonic\n",
      "prices and the demand for clean air', J. Environ. Economics & Management,\n",
      "vol.5, 81-102, 1978.   Used in Belsley, Kuh & Welsch, 'Regression diagnostics\n",
      "...', Wiley, 1980.   N.B. Various transformations are used in the table on\n",
      "pages 244-261 of the latter.\n",
      "\n",
      "The Boston house-price data has been used in many machine learning papers that address regression\n",
      "problems.   \n",
      "     \n",
      "**References**\n",
      "\n",
      "   - Belsley, Kuh & Welsch, 'Regression diagnostics: Identifying Influential Data and Sources of Collinearity', Wiley, 1980. 244-261.\n",
      "   - Quinlan,R. (1993). Combining Instance-Based and Model-Based Learning. In Proceedings on the Tenth International Conference of Machine Learning, 236-243, University of Massachusetts, Amherst. Morgan Kaufmann.\n",
      "   - many more! (see http://archive.ics.uci.edu/ml/datasets/Housing)\n",
      "\n"
     ]
    }
   ],
   "source": [
    "print (boston['DESCR'])"
   ]
  },
  {
   "cell_type": "code",
   "execution_count": 35,
   "metadata": {},
   "outputs": [
    {
     "data": {
      "text/html": [
       "<div>\n",
       "<style>\n",
       "    .dataframe thead tr:only-child th {\n",
       "        text-align: right;\n",
       "    }\n",
       "\n",
       "    .dataframe thead th {\n",
       "        text-align: left;\n",
       "    }\n",
       "\n",
       "    .dataframe tbody tr th {\n",
       "        vertical-align: top;\n",
       "    }\n",
       "</style>\n",
       "<table border=\"1\" class=\"dataframe\">\n",
       "  <thead>\n",
       "    <tr style=\"text-align: right;\">\n",
       "      <th></th>\n",
       "      <th>CRIM</th>\n",
       "      <th>ZN</th>\n",
       "      <th>INDUS</th>\n",
       "      <th>CHAS</th>\n",
       "      <th>NOX</th>\n",
       "      <th>RM</th>\n",
       "      <th>AGE</th>\n",
       "      <th>DIS</th>\n",
       "      <th>RAD</th>\n",
       "      <th>TAX</th>\n",
       "      <th>PTRATIO</th>\n",
       "      <th>B</th>\n",
       "      <th>LSTAT</th>\n",
       "      <th>Prices</th>\n",
       "    </tr>\n",
       "  </thead>\n",
       "  <tbody>\n",
       "    <tr>\n",
       "      <th>0</th>\n",
       "      <td>0.00632</td>\n",
       "      <td>18.0</td>\n",
       "      <td>2.31</td>\n",
       "      <td>0.0</td>\n",
       "      <td>0.538</td>\n",
       "      <td>6.575</td>\n",
       "      <td>65.2</td>\n",
       "      <td>4.0900</td>\n",
       "      <td>1.0</td>\n",
       "      <td>296.0</td>\n",
       "      <td>15.3</td>\n",
       "      <td>396.90</td>\n",
       "      <td>4.98</td>\n",
       "      <td>24.0</td>\n",
       "    </tr>\n",
       "    <tr>\n",
       "      <th>1</th>\n",
       "      <td>0.02731</td>\n",
       "      <td>0.0</td>\n",
       "      <td>7.07</td>\n",
       "      <td>0.0</td>\n",
       "      <td>0.469</td>\n",
       "      <td>6.421</td>\n",
       "      <td>78.9</td>\n",
       "      <td>4.9671</td>\n",
       "      <td>2.0</td>\n",
       "      <td>242.0</td>\n",
       "      <td>17.8</td>\n",
       "      <td>396.90</td>\n",
       "      <td>9.14</td>\n",
       "      <td>21.6</td>\n",
       "    </tr>\n",
       "    <tr>\n",
       "      <th>2</th>\n",
       "      <td>0.02729</td>\n",
       "      <td>0.0</td>\n",
       "      <td>7.07</td>\n",
       "      <td>0.0</td>\n",
       "      <td>0.469</td>\n",
       "      <td>7.185</td>\n",
       "      <td>61.1</td>\n",
       "      <td>4.9671</td>\n",
       "      <td>2.0</td>\n",
       "      <td>242.0</td>\n",
       "      <td>17.8</td>\n",
       "      <td>392.83</td>\n",
       "      <td>4.03</td>\n",
       "      <td>34.7</td>\n",
       "    </tr>\n",
       "    <tr>\n",
       "      <th>3</th>\n",
       "      <td>0.03237</td>\n",
       "      <td>0.0</td>\n",
       "      <td>2.18</td>\n",
       "      <td>0.0</td>\n",
       "      <td>0.458</td>\n",
       "      <td>6.998</td>\n",
       "      <td>45.8</td>\n",
       "      <td>6.0622</td>\n",
       "      <td>3.0</td>\n",
       "      <td>222.0</td>\n",
       "      <td>18.7</td>\n",
       "      <td>394.63</td>\n",
       "      <td>2.94</td>\n",
       "      <td>33.4</td>\n",
       "    </tr>\n",
       "    <tr>\n",
       "      <th>4</th>\n",
       "      <td>0.06905</td>\n",
       "      <td>0.0</td>\n",
       "      <td>2.18</td>\n",
       "      <td>0.0</td>\n",
       "      <td>0.458</td>\n",
       "      <td>7.147</td>\n",
       "      <td>54.2</td>\n",
       "      <td>6.0622</td>\n",
       "      <td>3.0</td>\n",
       "      <td>222.0</td>\n",
       "      <td>18.7</td>\n",
       "      <td>396.90</td>\n",
       "      <td>5.33</td>\n",
       "      <td>36.2</td>\n",
       "    </tr>\n",
       "  </tbody>\n",
       "</table>\n",
       "</div>"
      ],
      "text/plain": [
       "      CRIM    ZN  INDUS  CHAS    NOX     RM   AGE     DIS  RAD    TAX  \\\n",
       "0  0.00632  18.0   2.31   0.0  0.538  6.575  65.2  4.0900  1.0  296.0   \n",
       "1  0.02731   0.0   7.07   0.0  0.469  6.421  78.9  4.9671  2.0  242.0   \n",
       "2  0.02729   0.0   7.07   0.0  0.469  7.185  61.1  4.9671  2.0  242.0   \n",
       "3  0.03237   0.0   2.18   0.0  0.458  6.998  45.8  6.0622  3.0  222.0   \n",
       "4  0.06905   0.0   2.18   0.0  0.458  7.147  54.2  6.0622  3.0  222.0   \n",
       "\n",
       "   PTRATIO       B  LSTAT  Prices  \n",
       "0     15.3  396.90   4.98    24.0  \n",
       "1     17.8  396.90   9.14    21.6  \n",
       "2     17.8  392.83   4.03    34.7  \n",
       "3     18.7  394.63   2.94    33.4  \n",
       "4     18.7  396.90   5.33    36.2  "
      ]
     },
     "execution_count": 35,
     "metadata": {},
     "output_type": "execute_result"
    }
   ],
   "source": [
    "boston_df = x\n",
    "boston_df[\"Prices\"] = y\n",
    "boston_df.head()"
   ]
  },
  {
   "cell_type": "code",
   "execution_count": 36,
   "metadata": {
    "collapsed": true
   },
   "outputs": [],
   "source": [
    "# Save\\write to csv: \n",
    "boston_df.to_csv(\"boston_prices.csv\", index=None)\n",
    "boston_df = pd.DataFrame.from_csv(\"boston_prices.csv\", index_col=None)"
   ]
  },
  {
   "cell_type": "code",
   "execution_count": 37,
   "metadata": {},
   "outputs": [
    {
     "data": {
      "text/plain": [
       "CRIM         8.596783\n",
       "ZN          23.322453\n",
       "INDUS        6.860353\n",
       "CHAS         0.253994\n",
       "NOX          0.115878\n",
       "RM           0.702617\n",
       "AGE         28.148861\n",
       "DIS          2.105710\n",
       "RAD          8.707259\n",
       "TAX        168.537116\n",
       "PTRATIO      2.164946\n",
       "B           91.294864\n",
       "LSTAT        7.141062\n",
       "Prices       9.197104\n",
       "dtype: float64"
      ]
     },
     "execution_count": 37,
     "metadata": {},
     "output_type": "execute_result"
    }
   ],
   "source": [
    "boston_df.mean()\n",
    "boston_df.std()"
   ]
  },
  {
   "cell_type": "code",
   "execution_count": 38,
   "metadata": {
    "collapsed": true
   },
   "outputs": [],
   "source": [
    "## NOW - 10 minutes to load the data - and noramlized the dataframe.. "
   ]
  },
  {
   "cell_type": "code",
   "execution_count": 39,
   "metadata": {},
   "outputs": [],
   "source": [
    "# normalize a column (PCA... )\n",
    "s = (boston_df.B-boston_df.B.mean())/boston_df.B.std()\n",
    "s.mean(), s.std()\n",
    "boston_df.B = s\n",
    "# normalize matrix.. \n",
    "#(boston_df - boston_df.mean())/boston_df.std()"
   ]
  },
  {
   "cell_type": "code",
   "execution_count": 40,
   "metadata": {},
   "outputs": [
    {
     "data": {
      "text/plain": [
       "0.4044706971622607"
      ]
     },
     "execution_count": 40,
     "metadata": {},
     "output_type": "execute_result"
    }
   ],
   "source": [
    "# pearson correlation \n",
    "np.corrcoef(boston_df.INDUS.values, boston_df.CRIM.values)[0, 1]"
   ]
  },
  {
   "cell_type": "code",
   "execution_count": 41,
   "metadata": {},
   "outputs": [
    {
     "data": {
      "text/plain": [
       "-0.24026493104775151"
      ]
     },
     "execution_count": 41,
     "metadata": {},
     "output_type": "execute_result"
    }
   ],
   "source": [
    "np.corrcoef(boston_df.RM, boston_df.AGE.values)[0, 1]"
   ]
  },
  {
   "cell_type": "code",
   "execution_count": 42,
   "metadata": {
    "collapsed": true
   },
   "outputs": [],
   "source": [
    "# building a new features: \n",
    "boston_df[\"age*rooms\"] = boston_df.RM.values * boston_df.AGE.values"
   ]
  },
  {
   "cell_type": "code",
   "execution_count": 43,
   "metadata": {},
   "outputs": [
    {
     "data": {
      "text/plain": [
       "<matplotlib.text.Text at 0xcee6278>"
      ]
     },
     "execution_count": 43,
     "metadata": {},
     "output_type": "execute_result"
    },
    {
     "data": {
      "image/png": "[encoded data removed]",
      "text/plain": [
       "<matplotlib.figure.Figure at 0xce1ec18>"
      ]
     },
     "metadata": {},
     "output_type": "display_data"
    }
   ],
   "source": [
    "plt.scatter(boston_df.PTRATIO.values , boston_df.Prices.values)\n",
    "plt.xlabel(\"number of rooms\")\n",
    "plt.ylabel(\"Age\")\n",
    "plt.title('Scatter plot - Age:Number of rooms')"
   ]
  },
  {
   "cell_type": "code",
   "execution_count": 44,
   "metadata": {},
   "outputs": [
    {
     "data": {
      "text/plain": [
       "<matplotlib.axes._subplots.AxesSubplot at 0xcef36d8>"
      ]
     },
     "execution_count": 44,
     "metadata": {},
     "output_type": "execute_result"
    },
    {
     "data": {
      "image/png": "[encoded data removed]",
      "text/plain": [
       "<matplotlib.figure.Figure at 0xcd46e10>"
      ]
     },
     "metadata": {},
     "output_type": "display_data"
    }
   ],
   "source": [
    "# use pandas plot\n",
    "boston_df.plot()"
   ]
  },
  {
   "cell_type": "code",
   "execution_count": 45,
   "metadata": {},
   "outputs": [
    {
     "data": {
      "image/png": "[encoded data removed]",
      "text/plain": [
       "<matplotlib.figure.Figure at 0xd3c2be0>"
      ]
     },
     "metadata": {},
     "output_type": "display_data"
    }
   ],
   "source": [
    "plt.hist(boston_df.Prices.values, label=\"prices\", normed=1)\n",
    "plt.legend()\n",
    "plt.xlabel(\"Prices\")\n",
    "plt.ylabel(\"perc. of houses\")\n",
    "plt.title('Histogram of Prices')\n",
    "plt.show()"
   ]
  },
  {
   "cell_type": "code",
   "execution_count": 46,
   "metadata": {
    "collapsed": true
   },
   "outputs": [],
   "source": [
    "from sklearn import  linear_model as lr\n",
    "from sklearn.metrics import mean_squared_error, r2_score"
   ]
  },
  {
   "cell_type": "code",
   "execution_count": 47,
   "metadata": {},
   "outputs": [
    {
     "name": "stdout",
     "output_type": "stream",
     "text": [
      "506\n"
     ]
    }
   ],
   "source": [
    "# split to train\\ test\n",
    "rand_idx = np.random.permutation(boston_df.index)\n",
    "print (len(rand_idx))\n",
    "train_idx = rand_idx[:400]\n",
    "test_idx = rand_idx[400:]\n",
    "df_train = boston_df.loc[train_idx,:]\n",
    "df_test = boston_df.loc[test_idx,:]"
   ]
  },
  {
   "cell_type": "code",
   "execution_count": 48,
   "metadata": {
    "collapsed": true
   },
   "outputs": [],
   "source": [
    "# split to x, y\n",
    "y_train = df_train.Prices.values\n",
    "x_train = df_train.drop(['Prices'], 1)\n",
    "y_test = df_test.Prices.values\n",
    "x_test = df_test.drop(['Prices'], 1)"
   ]
  },
  {
   "cell_type": "code",
   "execution_count": 49,
   "metadata": {
    "collapsed": true
   },
   "outputs": [],
   "source": [
    "# Run linear regression\n",
    "regr = lr.LinearRegression()\n",
    "regr.fit(x_train, y_train)\n",
    "y_pred = regr.predict(x_test)"
   ]
  },
  {
   "cell_type": "code",
   "execution_count": 57,
   "metadata": {},
   "outputs": [
    {
     "data": {
      "text/html": [
       "<div>\n",
       "<style>\n",
       "    .dataframe thead tr:only-child th {\n",
       "        text-align: right;\n",
       "    }\n",
       "\n",
       "    .dataframe thead th {\n",
       "        text-align: left;\n",
       "    }\n",
       "\n",
       "    .dataframe tbody tr th {\n",
       "        vertical-align: top;\n",
       "    }\n",
       "</style>\n",
       "<table border=\"1\" class=\"dataframe\">\n",
       "  <thead>\n",
       "    <tr style=\"text-align: right;\">\n",
       "      <th></th>\n",
       "      <th>weight</th>\n",
       "      <th>feature</th>\n",
       "    </tr>\n",
       "  </thead>\n",
       "  <tbody>\n",
       "    <tr>\n",
       "      <th>4</th>\n",
       "      <td>-16.520819</td>\n",
       "      <td>NOX</td>\n",
       "    </tr>\n",
       "    <tr>\n",
       "      <th>7</th>\n",
       "      <td>-1.498316</td>\n",
       "      <td>DIS</td>\n",
       "    </tr>\n",
       "    <tr>\n",
       "      <th>10</th>\n",
       "      <td>-0.983596</td>\n",
       "      <td>PTRATIO</td>\n",
       "    </tr>\n",
       "    <tr>\n",
       "      <th>12</th>\n",
       "      <td>-0.621744</td>\n",
       "      <td>LSTAT</td>\n",
       "    </tr>\n",
       "    <tr>\n",
       "      <th>0</th>\n",
       "      <td>-0.120453</td>\n",
       "      <td>CRIM</td>\n",
       "    </tr>\n",
       "    <tr>\n",
       "      <th>13</th>\n",
       "      <td>-0.074182</td>\n",
       "      <td>age*rooms</td>\n",
       "    </tr>\n",
       "    <tr>\n",
       "      <th>9</th>\n",
       "      <td>-0.011393</td>\n",
       "      <td>TAX</td>\n",
       "    </tr>\n",
       "    <tr>\n",
       "      <th>1</th>\n",
       "      <td>0.011740</td>\n",
       "      <td>ZN</td>\n",
       "    </tr>\n",
       "    <tr>\n",
       "      <th>2</th>\n",
       "      <td>0.017307</td>\n",
       "      <td>INDUS</td>\n",
       "    </tr>\n",
       "    <tr>\n",
       "      <th>8</th>\n",
       "      <td>0.276974</td>\n",
       "      <td>RAD</td>\n",
       "    </tr>\n",
       "    <tr>\n",
       "      <th>6</th>\n",
       "      <td>0.468489</td>\n",
       "      <td>AGE</td>\n",
       "    </tr>\n",
       "    <tr>\n",
       "      <th>11</th>\n",
       "      <td>0.906576</td>\n",
       "      <td>B</td>\n",
       "    </tr>\n",
       "    <tr>\n",
       "      <th>3</th>\n",
       "      <td>1.771662</td>\n",
       "      <td>CHAS</td>\n",
       "    </tr>\n",
       "    <tr>\n",
       "      <th>5</th>\n",
       "      <td>9.420436</td>\n",
       "      <td>RM</td>\n",
       "    </tr>\n",
       "  </tbody>\n",
       "</table>\n",
       "</div>"
      ],
      "text/plain": [
       "       weight    feature\n",
       "4  -16.520819        NOX\n",
       "7   -1.498316        DIS\n",
       "10  -0.983596    PTRATIO\n",
       "12  -0.621744      LSTAT\n",
       "0   -0.120453       CRIM\n",
       "13  -0.074182  age*rooms\n",
       "9   -0.011393        TAX\n",
       "1    0.011740         ZN\n",
       "2    0.017307      INDUS\n",
       "8    0.276974        RAD\n",
       "6    0.468489        AGE\n",
       "11   0.906576          B\n",
       "3    1.771662       CHAS\n",
       "5    9.420436         RM"
      ]
     },
     "execution_count": 57,
     "metadata": {},
     "output_type": "execute_result"
    }
   ],
   "source": [
    "f_weights = pd.DataFrame(list(zip(regr.coef_, x_train.columns)), columns=[\"weight\", \"feature\"])\n",
    "f_weights.sort_values(['weight'])"
   ]
  },
  {
   "cell_type": "code",
   "execution_count": 58,
   "metadata": {},
   "outputs": [
    {
     "data": {
      "text/plain": [
       "40.330567119829887"
      ]
     },
     "execution_count": 58,
     "metadata": {},
     "output_type": "execute_result"
    }
   ],
   "source": [
    "# calculate the score- manualy: \n",
    "np.sum(f_weights.weight * x_test.iloc[0,:].values) + regr.intercept_"
   ]
  },
  {
   "cell_type": "code",
   "execution_count": 59,
   "metadata": {},
   "outputs": [
    {
     "data": {
      "text/plain": [
       "40.330567119829901"
      ]
     },
     "execution_count": 59,
     "metadata": {},
     "output_type": "execute_result"
    }
   ],
   "source": [
    "y_pred[0]"
   ]
  },
  {
   "cell_type": "code",
   "execution_count": 53,
   "metadata": {},
   "outputs": [
    {
     "name": "stdout",
     "output_type": "stream",
     "text": [
      "Mean squared error: 23.64\n",
      "Variance score: 0.63\n"
     ]
    }
   ],
   "source": [
    "# The mean squared error\n",
    "print(\"Mean squared error: %.2f\"\n",
    "      % mean_squared_error(y_pred, y_test))\n",
    "\n",
    "# Explained variance score: 1 is perfect prediction\n",
    "print('Variance score: %.2f' % r2_score(y_test, y_pred))\n"
   ]
  },
  {
   "cell_type": "code",
   "execution_count": 54,
   "metadata": {},
   "outputs": [
    {
     "data": {
      "text/plain": [
       "<matplotlib.text.Text at 0x125f0b00>"
      ]
     },
     "execution_count": 54,
     "metadata": {},
     "output_type": "execute_result"
    },
    {
     "data": {
      "image/png": "[encoded data removed]",
      "text/plain": [
       "<matplotlib.figure.Figure at 0x12509d68>"
      ]
     },
     "metadata": {},
     "output_type": "display_data"
    }
   ],
   "source": [
    "# Plot outputs\n",
    "plt.plot((y_test-y_pred)/y_test, \"--o\",  color='black')\n",
    "plt.xlabel('index')\n",
    "plt.ylabel('Differrence between test and pred')\n",
    "plt.title(\"Relative error - Boston Prices\")"
   ]
  }
 ],
 "metadata": {
  "kernelspec": {
   "display_name": "Python 2",
   "language": "python",
   "name": "python2"
  },
  "language_info": {
   "codemirror_mode": {
    "name": "ipython",
    "version": 2
   },
   "file_extension": ".py",
   "mimetype": "text/x-python",
   "name": "python",
   "nbconvert_exporter": "python",
   "pygments_lexer": "ipython2",
   "version": "2.7.13"
  }
 },
 "nbformat": 4,
 "nbformat_minor": 2
}
